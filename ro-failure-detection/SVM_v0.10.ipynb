{
 "cells": [
  {
   "cell_type": "code",
   "execution_count": 2,
   "metadata": {},
   "outputs": [],
   "source": [
    "# To support both python 2 and python 3\n",
    "from __future__ import division, print_function, unicode_literals\n",
    "\n",
    "# Common imports\n",
    "import numpy as np\n",
    "import pandas as pd\n",
    "import os\n",
    "from numpy import *\n",
    "\n",
    "# to make this notebook's output stable across runs\n",
    "np.random.seed(42)\n",
    "\n",
    "# To plot pretty figures\n",
    "%matplotlib inline\n",
    "import matplotlib\n",
    "import matplotlib.pyplot as plt\n",
    "plt.rcParams['axes.labelsize'] = 14\n",
    "plt.rcParams['xtick.labelsize'] = 12\n",
    "plt.rcParams['ytick.labelsize'] = 12"
   ]
  },
  {
   "cell_type": "code",
   "execution_count": 3,
   "metadata": {},
   "outputs": [
    {
     "name": "stdout",
     "output_type": "stream",
     "text": [
      "Reading from: /Users/roberto/data/RO-logging/datasets/ro-dataset-v1/maxEVecs-ro-dataset.csv\n",
      "Reading from: /Users/roberto/data/RO-logging/datasets/ro-dataset-v1/labels-ro-dataset.csv\n",
      "Shape of max eigenvecs is:\n",
      " (2023, 2400)\n",
      "Shape of labels is:\n",
      " (1, 2023)\n"
     ]
    }
   ],
   "source": [
    "from sklearn.svm import SVC\n",
    "from sklearn import datasets\n",
    "\n",
    "filename = '/Users/roberto/data/RO-logging/datasets/ro-dataset-v1/maxEVecs-ro-dataset.csv';\n",
    "print('Reading from: ' + filename)\n",
    "df_maxEVecs = pd.read_csv(filename, names=range(2400))\n",
    "\n",
    "[m,n] = shape(df_maxEVecs)\n",
    "\n",
    "filename = '/Users/roberto/data/RO-logging/datasets/ro-dataset-v1/labels-ro-dataset.csv';\n",
    "print('Reading from: ' + filename)\n",
    "df_labels = pd.read_csv(filename, names=range(m))\n",
    "labels = np.copy(df_labels.values)\n",
    "labels = labels.T\n",
    "print(\"Shape of max eigenvecs is:\\n\",shape(df_maxEVecs))\n",
    "print(\"Shape of labels is:\\n\",shape(df_labels))"
   ]
  },
  {
   "cell_type": "code",
   "execution_count": 4,
   "metadata": {},
   "outputs": [
    {
     "data": {
      "text/html": [
       "<div>\n",
       "<style scoped>\n",
       "    .dataframe tbody tr th:only-of-type {\n",
       "        vertical-align: middle;\n",
       "    }\n",
       "\n",
       "    .dataframe tbody tr th {\n",
       "        vertical-align: top;\n",
       "    }\n",
       "\n",
       "    .dataframe thead th {\n",
       "        text-align: right;\n",
       "    }\n",
       "</style>\n",
       "<table border=\"1\" class=\"dataframe\">\n",
       "  <thead>\n",
       "    <tr style=\"text-align: right;\">\n",
       "      <th></th>\n",
       "      <th>0</th>\n",
       "      <th>1</th>\n",
       "      <th>2</th>\n",
       "      <th>3</th>\n",
       "      <th>4</th>\n",
       "      <th>5</th>\n",
       "      <th>6</th>\n",
       "      <th>7</th>\n",
       "      <th>8</th>\n",
       "      <th>9</th>\n",
       "      <th>...</th>\n",
       "      <th>2390</th>\n",
       "      <th>2391</th>\n",
       "      <th>2392</th>\n",
       "      <th>2393</th>\n",
       "      <th>2394</th>\n",
       "      <th>2395</th>\n",
       "      <th>2396</th>\n",
       "      <th>2397</th>\n",
       "      <th>2398</th>\n",
       "      <th>2399</th>\n",
       "    </tr>\n",
       "  </thead>\n",
       "  <tbody>\n",
       "    <tr>\n",
       "      <th>0</th>\n",
       "      <td>0.055188</td>\n",
       "      <td>0.055134</td>\n",
       "      <td>0.054691</td>\n",
       "      <td>0.054660</td>\n",
       "      <td>0.054297</td>\n",
       "      <td>0.054235</td>\n",
       "      <td>0.054081</td>\n",
       "      <td>0.053936</td>\n",
       "      <td>0.053916</td>\n",
       "      <td>0.053564</td>\n",
       "      <td>...</td>\n",
       "      <td>0.0</td>\n",
       "      <td>0.0</td>\n",
       "      <td>0.0</td>\n",
       "      <td>0.0</td>\n",
       "      <td>0.0</td>\n",
       "      <td>0.0</td>\n",
       "      <td>0.0</td>\n",
       "      <td>0.0</td>\n",
       "      <td>0.0</td>\n",
       "      <td>0.0</td>\n",
       "    </tr>\n",
       "    <tr>\n",
       "      <th>1</th>\n",
       "      <td>0.048261</td>\n",
       "      <td>0.048193</td>\n",
       "      <td>0.047930</td>\n",
       "      <td>0.047750</td>\n",
       "      <td>0.047725</td>\n",
       "      <td>0.047575</td>\n",
       "      <td>0.047533</td>\n",
       "      <td>0.046977</td>\n",
       "      <td>0.046955</td>\n",
       "      <td>0.046932</td>\n",
       "      <td>...</td>\n",
       "      <td>0.0</td>\n",
       "      <td>0.0</td>\n",
       "      <td>0.0</td>\n",
       "      <td>0.0</td>\n",
       "      <td>0.0</td>\n",
       "      <td>0.0</td>\n",
       "      <td>0.0</td>\n",
       "      <td>0.0</td>\n",
       "      <td>0.0</td>\n",
       "      <td>0.0</td>\n",
       "    </tr>\n",
       "    <tr>\n",
       "      <th>2</th>\n",
       "      <td>0.046782</td>\n",
       "      <td>0.046761</td>\n",
       "      <td>0.046703</td>\n",
       "      <td>0.046670</td>\n",
       "      <td>0.046650</td>\n",
       "      <td>0.046623</td>\n",
       "      <td>0.046605</td>\n",
       "      <td>0.046600</td>\n",
       "      <td>0.046530</td>\n",
       "      <td>0.046512</td>\n",
       "      <td>...</td>\n",
       "      <td>0.0</td>\n",
       "      <td>0.0</td>\n",
       "      <td>0.0</td>\n",
       "      <td>0.0</td>\n",
       "      <td>0.0</td>\n",
       "      <td>0.0</td>\n",
       "      <td>0.0</td>\n",
       "      <td>0.0</td>\n",
       "      <td>0.0</td>\n",
       "      <td>0.0</td>\n",
       "    </tr>\n",
       "    <tr>\n",
       "      <th>3</th>\n",
       "      <td>0.048621</td>\n",
       "      <td>0.048156</td>\n",
       "      <td>0.047899</td>\n",
       "      <td>0.047863</td>\n",
       "      <td>0.047810</td>\n",
       "      <td>0.047751</td>\n",
       "      <td>0.047556</td>\n",
       "      <td>0.047522</td>\n",
       "      <td>0.047419</td>\n",
       "      <td>0.047178</td>\n",
       "      <td>...</td>\n",
       "      <td>0.0</td>\n",
       "      <td>0.0</td>\n",
       "      <td>0.0</td>\n",
       "      <td>0.0</td>\n",
       "      <td>0.0</td>\n",
       "      <td>0.0</td>\n",
       "      <td>0.0</td>\n",
       "      <td>0.0</td>\n",
       "      <td>0.0</td>\n",
       "      <td>0.0</td>\n",
       "    </tr>\n",
       "    <tr>\n",
       "      <th>4</th>\n",
       "      <td>0.046599</td>\n",
       "      <td>0.046410</td>\n",
       "      <td>0.046399</td>\n",
       "      <td>0.046352</td>\n",
       "      <td>0.046250</td>\n",
       "      <td>0.046162</td>\n",
       "      <td>0.046136</td>\n",
       "      <td>0.045981</td>\n",
       "      <td>0.045935</td>\n",
       "      <td>0.045744</td>\n",
       "      <td>...</td>\n",
       "      <td>0.0</td>\n",
       "      <td>0.0</td>\n",
       "      <td>0.0</td>\n",
       "      <td>0.0</td>\n",
       "      <td>0.0</td>\n",
       "      <td>0.0</td>\n",
       "      <td>0.0</td>\n",
       "      <td>0.0</td>\n",
       "      <td>0.0</td>\n",
       "      <td>0.0</td>\n",
       "    </tr>\n",
       "  </tbody>\n",
       "</table>\n",
       "<p>5 rows × 2400 columns</p>\n",
       "</div>"
      ],
      "text/plain": [
       "       0         1         2         3         4         5         6     \\\n",
       "0  0.055188  0.055134  0.054691  0.054660  0.054297  0.054235  0.054081   \n",
       "1  0.048261  0.048193  0.047930  0.047750  0.047725  0.047575  0.047533   \n",
       "2  0.046782  0.046761  0.046703  0.046670  0.046650  0.046623  0.046605   \n",
       "3  0.048621  0.048156  0.047899  0.047863  0.047810  0.047751  0.047556   \n",
       "4  0.046599  0.046410  0.046399  0.046352  0.046250  0.046162  0.046136   \n",
       "\n",
       "       7         8         9     ...   2390  2391  2392  2393  2394  2395  \\\n",
       "0  0.053936  0.053916  0.053564  ...    0.0   0.0   0.0   0.0   0.0   0.0   \n",
       "1  0.046977  0.046955  0.046932  ...    0.0   0.0   0.0   0.0   0.0   0.0   \n",
       "2  0.046600  0.046530  0.046512  ...    0.0   0.0   0.0   0.0   0.0   0.0   \n",
       "3  0.047522  0.047419  0.047178  ...    0.0   0.0   0.0   0.0   0.0   0.0   \n",
       "4  0.045981  0.045935  0.045744  ...    0.0   0.0   0.0   0.0   0.0   0.0   \n",
       "\n",
       "   2396  2397  2398  2399  \n",
       "0   0.0   0.0   0.0   0.0  \n",
       "1   0.0   0.0   0.0   0.0  \n",
       "2   0.0   0.0   0.0   0.0  \n",
       "3   0.0   0.0   0.0   0.0  \n",
       "4   0.0   0.0   0.0   0.0  \n",
       "\n",
       "[5 rows x 2400 columns]"
      ]
     },
     "execution_count": 4,
     "metadata": {},
     "output_type": "execute_result"
    }
   ],
   "source": [
    "where_are_NaNs = isnan(df_maxEVecs)\n",
    "df_maxEVecs[where_are_NaNs] = 0\n",
    "df_maxEVecs.head()"
   ]
  },
  {
   "cell_type": "code",
   "execution_count": 5,
   "metadata": {},
   "outputs": [],
   "source": [
    "# Handcrafted features for all data (train and test data)\n",
    "eigenvectors = np.copy(df_maxEVecs.values)\n",
    "max_vals = []\n",
    "max_vals = eigenvectors[:,0]\n",
    "num_landmarks = count_nonzero(eigenvectors,axis=1)\n",
    "q1_vals = []\n",
    "q3_vals = []\n",
    "iqr_vals = []\n",
    "area_under_curve = []\n",
    "\n",
    "for i in range(m):\n",
    "    q1_index = int(round(num_landmarks[i]/4))\n",
    "    q1_vals.append(eigenvectors[i,q1_index])\n",
    "    q3_index = int(round(num_landmarks[i]*3/4))\n",
    "    q3_vals.append(eigenvectors[i,q3_index])\n",
    "    iqr_vals.append(q1_vals[-1]-q3_vals[-1])\n",
    "    \n",
    "    temp_sum = 0;\n",
    "    for j in range(n):\n",
    "        temp_sum += eigenvectors[i,j]\n",
    "    area_under_curve.append(temp_sum)\n",
    "    \n",
    "previous_max_vals = [max_vals[0]]\n",
    "previous_max_vals = np.append(previous_max_vals,max_vals[0:m-1])\n",
    "previous_num_landmarks = [num_landmarks[0]]\n",
    "previous_num_landmarks = np.append(previous_num_landmarks,num_landmarks[0:m-1])\n",
    "previous_q1_vals = [q1_vals[0]]\n",
    "previous_q1_vals = np.append(previous_q1_vals,q1_vals[0:m-1])\n",
    "previous_q3_vals = [q3_vals[0]]\n",
    "previous_q3_vals = np.append(previous_q3_vals,q3_vals[0:m-1])\n",
    "previous_iqr_vals = [iqr_vals[0]]\n",
    "previous_iqr_vals = np.append(previous_iqr_vals,iqr_vals[0:m-1])\n",
    "previous_area_under_curve = [area_under_curve[0]]\n",
    "previous_area_under_curve = np.append(previous_area_under_curve,area_under_curve[0:m-1])"
   ]
  },
  {
   "cell_type": "code",
   "execution_count": 6,
   "metadata": {},
   "outputs": [
    {
     "data": {
      "text/html": [
       "<div>\n",
       "<style scoped>\n",
       "    .dataframe tbody tr th:only-of-type {\n",
       "        vertical-align: middle;\n",
       "    }\n",
       "\n",
       "    .dataframe tbody tr th {\n",
       "        vertical-align: top;\n",
       "    }\n",
       "\n",
       "    .dataframe thead th {\n",
       "        text-align: right;\n",
       "    }\n",
       "</style>\n",
       "<table border=\"1\" class=\"dataframe\">\n",
       "  <thead>\n",
       "    <tr style=\"text-align: right;\">\n",
       "      <th></th>\n",
       "      <th>max_vals</th>\n",
       "      <th>num_landmarks</th>\n",
       "      <th>area_under_curve</th>\n",
       "      <th>previous_max_vals</th>\n",
       "      <th>previous_num_landmarks</th>\n",
       "      <th>previous_area_under_curve</th>\n",
       "    </tr>\n",
       "  </thead>\n",
       "  <tbody>\n",
       "    <tr>\n",
       "      <th>0</th>\n",
       "      <td>0.055188</td>\n",
       "      <td>663</td>\n",
       "      <td>24.278510</td>\n",
       "      <td>0.055188</td>\n",
       "      <td>663</td>\n",
       "      <td>24.278510</td>\n",
       "    </tr>\n",
       "    <tr>\n",
       "      <th>1</th>\n",
       "      <td>0.048261</td>\n",
       "      <td>706</td>\n",
       "      <td>24.570881</td>\n",
       "      <td>0.055188</td>\n",
       "      <td>663</td>\n",
       "      <td>24.278510</td>\n",
       "    </tr>\n",
       "    <tr>\n",
       "      <th>2</th>\n",
       "      <td>0.046782</td>\n",
       "      <td>706</td>\n",
       "      <td>25.191307</td>\n",
       "      <td>0.048261</td>\n",
       "      <td>706</td>\n",
       "      <td>24.570881</td>\n",
       "    </tr>\n",
       "    <tr>\n",
       "      <th>3</th>\n",
       "      <td>0.048621</td>\n",
       "      <td>696</td>\n",
       "      <td>25.408512</td>\n",
       "      <td>0.046782</td>\n",
       "      <td>706</td>\n",
       "      <td>25.191307</td>\n",
       "    </tr>\n",
       "    <tr>\n",
       "      <th>4</th>\n",
       "      <td>0.046599</td>\n",
       "      <td>650</td>\n",
       "      <td>24.898711</td>\n",
       "      <td>0.048621</td>\n",
       "      <td>696</td>\n",
       "      <td>25.408512</td>\n",
       "    </tr>\n",
       "  </tbody>\n",
       "</table>\n",
       "</div>"
      ],
      "text/plain": [
       "   max_vals  num_landmarks  area_under_curve  previous_max_vals  \\\n",
       "0  0.055188            663         24.278510           0.055188   \n",
       "1  0.048261            706         24.570881           0.055188   \n",
       "2  0.046782            706         25.191307           0.048261   \n",
       "3  0.048621            696         25.408512           0.046782   \n",
       "4  0.046599            650         24.898711           0.048621   \n",
       "\n",
       "   previous_num_landmarks  previous_area_under_curve  \n",
       "0                     663                  24.278510  \n",
       "1                     663                  24.278510  \n",
       "2                     706                  24.570881  \n",
       "3                     706                  25.191307  \n",
       "4                     696                  25.408512  "
      ]
     },
     "execution_count": 6,
     "metadata": {},
     "output_type": "execute_result"
    }
   ],
   "source": [
    "# temp_dict = {'max_vals':max_vals,'num_landmarks':num_landmarks,\n",
    "#              'q1_vals':q1_vals,'q3_vals':q3_vals,'iqr_vals':iqr_vals,\n",
    "#             'area_under_curve':area_under_curve,\n",
    "#             'previous_max_vals':previous_max_vals,\n",
    "#             'previous_num_landmarks':previous_num_landmarks,\n",
    "#             'previous_q1_vals':previous_q1_vals,\n",
    "#             'previous_q3_vals':previous_q3_vals,\n",
    "#             'previous_iqr_vals':previous_iqr_vals,\n",
    "#             'previous_area_under_curve':previous_area_under_curve}\n",
    "\n",
    "temp_dict = {'max_vals':max_vals,'num_landmarks':num_landmarks,\n",
    "            'area_under_curve':area_under_curve,\n",
    "            'previous_max_vals':previous_max_vals,\n",
    "            'previous_num_landmarks':previous_num_landmarks,\n",
    "            'previous_area_under_curve':previous_area_under_curve}\n",
    "\n",
    "df_features = pd.DataFrame(data = temp_dict)\n",
    "df_features.head()"
   ]
  },
  {
   "cell_type": "code",
   "execution_count": 7,
   "metadata": {},
   "outputs": [
    {
     "name": "stdout",
     "output_type": "stream",
     "text": [
      "663\n",
      "663\n"
     ]
    }
   ],
   "source": [
    "print(num_landmarks[0])\n",
    "print(np.count_nonzero(eigenvectors[0,0:1800],axis=0))"
   ]
  },
  {
   "cell_type": "code",
   "execution_count": 28,
   "metadata": {},
   "outputs": [
    {
     "name": "stdout",
     "output_type": "stream",
     "text": [
      "Good RO:  1567\n",
      "Bad RO: 456 \n",
      "\n",
      "Good vs Bad RO in training:  78 good, 23 bad\n",
      "Good vs Bad RO in testing: 1489 good, 433 bad \n",
      "\n",
      "Good/Bad ratio in training:  3.391304347826087\n",
      "Good/Bad ratio in testing: 3.438799076212471 \n",
      "\n",
      "Bad RO % in training:  0.22772277227722773\n",
      "Bad RO % in testing: 0.22528616024973985 \n",
      "\n",
      "Size of training data is: \n",
      " (101, 6)\n",
      "Size of test data is: \n",
      " (1922, 6)\n"
     ]
    }
   ],
   "source": [
    "from sklearn.model_selection import StratifiedShuffleSplit\n",
    "\n",
    "print('Good RO: ',np.count_nonzero(labels==0))\n",
    "print('Bad RO:',np.count_nonzero(labels==1),'\\n')\n",
    "\n",
    "X_total = np.copy(df_features.values)\n",
    "y_total = np.copy(ravel(labels))\n",
    "\n",
    "sss = StratifiedShuffleSplit(n_splits=1, test_size = 0.95, random_state=0)\n",
    "\n",
    "for train_index, test_index in sss.split(X_total, y_total):\n",
    "    X_train, X_test = X_total[train_index], X_total[test_index]\n",
    "    y_train, y_test = y_total[train_index], y_total[test_index]\n",
    "    eig_train, eig_test = df_maxEVecs.values[train_index], df_maxEVecs.values[test_index]\n",
    "\n",
    "print('Good vs Bad RO in training: ',np.count_nonzero(y_train==0),'good,',np.count_nonzero(y_train==1),'bad')\n",
    "print('Good vs Bad RO in testing:',np.count_nonzero(y_test==0),'good,',np.count_nonzero(y_test==1),'bad \\n')\n",
    "\n",
    "print('Good/Bad ratio in training: ',np.count_nonzero(y_train==0)/np.count_nonzero(y_train==1))\n",
    "print('Good/Bad ratio in testing:',np.count_nonzero(y_test==0)/np.count_nonzero(y_test==1),'\\n')\n",
    "\n",
    "# print('Bad RO % in training: ',np.count_nonzero(y_train==1)/np.count_nonzero(labels==1))\n",
    "# print('Bad RO % in testing:',np.count_nonzero(y_test==1)/np.count_nonzero(labels==1),'\\n')\n",
    "\n",
    "print('Bad RO % in training: ',np.count_nonzero(y_train==1)/len(y_train))\n",
    "print('Bad RO % in testing:',np.count_nonzero(y_test==1)/len(y_test),'\\n')\n",
    "\n",
    "[m_train,n_train] = shape(X_train)\n",
    "[m_test,n_test] = shape(X_test)\n",
    "print(\"Size of training data is: \\n\",shape(X_train))\n",
    "print(\"Size of test data is: \\n\",shape(X_test))"
   ]
  },
  {
   "cell_type": "code",
   "execution_count": 29,
   "metadata": {},
   "outputs": [
    {
     "name": "stdout",
     "output_type": "stream",
     "text": [
      "Mean:  [ 1.59938069e-15 -1.53892300e-16 -2.73708449e-15 -1.22674148e-15\n",
      " -1.59388454e-16 -3.91326135e-16]\n",
      "Variance:  [1. 1. 1. 1. 1. 1.]\n"
     ]
    }
   ],
   "source": [
    "from sklearn import preprocessing\n",
    "\n",
    "scaler = preprocessing.StandardScaler().fit(X_train)\n",
    "# scaler = preprocessing.MaxAbsScaler().fit(X_train)\n",
    "X_scaled = preprocessing.scale(X_train)\n",
    "print(\"Mean: \",X_scaled.mean(axis=0))\n",
    "print(\"Variance: \",X_scaled.std(axis=0))"
   ]
  },
  {
   "cell_type": "code",
   "execution_count": 30,
   "metadata": {},
   "outputs": [],
   "source": [
    "X_train = scaler.transform(X_train)\n",
    "X_test = scaler.transform(X_test)"
   ]
  },
  {
   "cell_type": "code",
   "execution_count": 31,
   "metadata": {},
   "outputs": [
    {
     "data": {
      "image/png": "[encoded data removed]",
      "text/plain": [
       "<Figure size 432x288 with 1 Axes>"
      ]
     },
     "metadata": {},
     "output_type": "display_data"
    }
   ],
   "source": [
    "plt.plot(X_train[0:60,:].T,'-');"
   ]
  },
  {
   "cell_type": "code",
   "execution_count": 32,
   "metadata": {},
   "outputs": [],
   "source": [
    "label_colours = []   \n",
    "test_colours = []\n",
    "for i in range(m_train):\n",
    "    if(y_train[i] == 1):\n",
    "        label_colours.append('red')\n",
    "    else:\n",
    "        label_colours.append('blue')\n",
    "for i in range(m_test):\n",
    "    if(y_test[i] == 1):\n",
    "        test_colours.append('red')\n",
    "    else:\n",
    "        test_colours.append('blue')\n",
    "\n",
    "# plt.figure(figsize=(15,5))\n",
    "\n",
    "# for i in range(m_train):\n",
    "#     plt.subplot(121)\n",
    "#     plt.plot(eig_train[i,:].T, color=label_colours[i]);\n",
    "#     plt.title(\"Training data\", fontsize=16)\n",
    "\n",
    "# for i in range(m_test):\n",
    "#     plt.subplot(122)\n",
    "#     plt.plot(eig_test[i,:].T, color=test_colours[i]);\n",
    "#     plt.title(\"Test data\", fontsize=16)"
   ]
  },
  {
   "cell_type": "code",
   "execution_count": 33,
   "metadata": {},
   "outputs": [
    {
     "name": "stdout",
     "output_type": "stream",
     "text": [
      "SVC(C=1000.0, cache_size=200, class_weight='balanced', coef0=0.0,\n",
      "  decision_function_shape='ovr', degree=3, gamma='auto', kernel='rbf',\n",
      "  max_iter=-1, probability=False, random_state=0, shrinking=True,\n",
      "  tol=0.001, verbose=False)\n"
     ]
    },
    {
     "data": {
      "text/plain": [
       "0.840270551508845"
      ]
     },
     "execution_count": 33,
     "metadata": {},
     "output_type": "execute_result"
    }
   ],
   "source": [
    "from sklearn.svm import SVC\n",
    "from sklearn.ensemble import RandomForestClassifier\n",
    "\n",
    "# SVM Classifier model\n",
    "# svm_clf = SVC(kernel=\"rbf\",class_weight='balanced', C=float(100000))\n",
    "clf = SVC(kernel=\"rbf\",class_weight='balanced', C=float(1000),random_state=0)\n",
    "print(clf.fit(X_train, y_train))\n",
    "clf.score(X_test,y_test)\n",
    "\n",
    "# Random Forest\n",
    "# clf = RandomForestClassifier(n_estimators=10)\n",
    "# clf = clf.fit(X_train,y_train)"
   ]
  },
  {
   "cell_type": "code",
   "execution_count": 34,
   "metadata": {},
   "outputs": [
    {
     "name": "stdout",
     "output_type": "stream",
     "text": [
      "Testing on X data with shape:  (1922, 6)\n",
      "Successes:  1615  out of  1922\n",
      "Classification accuracy =  0.840270551508845\n"
     ]
    }
   ],
   "source": [
    "print('Testing on X data with shape: ',shape(X_test))\n",
    "predictions = clf.predict(X_test)\n",
    "successes = 0\n",
    "for i in range(len(predictions)):\n",
    "    if predictions[i] == y_test[i]:\n",
    "        successes+=1   \n",
    "print('Successes: ',successes,' out of ',len(y_test))\n",
    "print('Classification accuracy = ',successes/len(y_test))"
   ]
  },
  {
   "cell_type": "code",
   "execution_count": 35,
   "metadata": {},
   "outputs": [],
   "source": [
    "# predict_colours = []\n",
    "# correct_colours = []\n",
    "# for i in range(m_test):\n",
    "#     if(predictions[i] == 1):\n",
    "#         predict_colours.append('red')\n",
    "#     else:\n",
    "#         predict_colours.append('blue')\n",
    "# for i in range(m_test):\n",
    "#     if(y_test[i] == 1):\n",
    "#         correct_colours.append('red')\n",
    "#     else:\n",
    "#         correct_colours.append('blue')\n",
    "\n",
    "# plt.figure(figsize=(15,5))\n",
    "# for i in range(m_test):\n",
    "# #     if(i%20 ==0):\n",
    "#         plt.subplot(121)\n",
    "#         plt.plot(eig_test[i,:].T, color=predict_colours[i]);\n",
    "#         plt.title(\"Predictions\", fontsize=16)\n",
    "\n",
    "#         plt.subplot(122)\n",
    "#         plt.plot(eig_test[i,:].T, color=correct_colours[i]);\n",
    "#         plt.title(\"Ground truth\", fontsize=16)"
   ]
  },
  {
   "cell_type": "code",
   "execution_count": 36,
   "metadata": {},
   "outputs": [
    {
     "data": {
      "text/plain": [
       "{'fit_time': array([0.00181699, 0.00145102, 0.00137305, 0.00143194, 0.00143003]),\n",
       " 'score_time': array([0.00108385, 0.00099611, 0.00116491, 0.00172615, 0.00145507]),\n",
       " 'test_precision_macro': array([0.58333333, 0.7375    , 0.66176471, 0.94117647, 0.62857143]),\n",
       " 'train_precision_macro': array([0.90909091, 0.91666667, 0.89628733, 0.92037471, 0.93149541]),\n",
       " 'test_recall_macro': array([0.6125, 0.7375, 0.6375, 0.75  , 0.65  ]),\n",
       " 'train_recall_macro': array([0.96774194, 0.94802867, 0.93996416, 0.94987469, 0.93149541])}"
      ]
     },
     "execution_count": 36,
     "metadata": {},
     "output_type": "execute_result"
    }
   ],
   "source": [
    "from sklearn.model_selection import cross_validate\n",
    "from sklearn.metrics import recall_score\n",
    "from sklearn.metrics.scorer import make_scorer\n",
    "\n",
    "scoring = ['precision_macro', 'recall_macro']\n",
    "\n",
    "scores = cross_validate(clf,X_train,y_train, scoring=scoring,cv=5,return_train_score=True)\n",
    "scores"
   ]
  },
  {
   "cell_type": "code",
   "execution_count": 37,
   "metadata": {},
   "outputs": [],
   "source": [
    "from sklearn.model_selection import cross_val_predict\n",
    "\n",
    "y_train_pred = cross_val_predict(clf,X_train, y_train, cv=5)\n",
    "# y_train_pred"
   ]
  },
  {
   "cell_type": "code",
   "execution_count": 38,
   "metadata": {},
   "outputs": [
    {
     "data": {
      "text/plain": [
       "array([[65, 13],\n",
       "       [11, 12]])"
      ]
     },
     "execution_count": 38,
     "metadata": {},
     "output_type": "execute_result"
    }
   ],
   "source": [
    "from sklearn.metrics import confusion_matrix\n",
    "confusion_matrix(y_train,y_train_pred)"
   ]
  },
  {
   "cell_type": "code",
   "execution_count": 39,
   "metadata": {},
   "outputs": [
    {
     "name": "stdout",
     "output_type": "stream",
     "text": [
      "Precision (% when positive prediction is correct):\n",
      " 0.48 \n",
      "\n",
      "Recall (% of bad RO instances detected):\n",
      " 0.5217391304347826 \n",
      "\n",
      "F1 score: \n",
      " 0.4999999999999999\n"
     ]
    }
   ],
   "source": [
    "from sklearn.metrics import precision_score, recall_score\n",
    "print('Precision (% when positive prediction is correct):\\n',precision_score(y_train,y_train_pred),'\\n')\n",
    "print('Recall (% of bad RO instances detected):\\n',recall_score(y_train, y_train_pred),'\\n')\n",
    "\n",
    "from sklearn.metrics import f1_score\n",
    "print('F1 score: \\n',f1_score(y_train,y_train_pred))"
   ]
  },
  {
   "cell_type": "code",
   "execution_count": 40,
   "metadata": {},
   "outputs": [],
   "source": [
    "from sklearn.model_selection import cross_val_score\n",
    "y_scores = cross_val_predict(clf, X_train, y_train, cv=5,\n",
    "                                 method=\"decision_function\")\n",
    "# y_scores = cross_val_predict(clf, X_train, y_train, cv=3)"
   ]
  },
  {
   "cell_type": "code",
   "execution_count": 41,
   "metadata": {},
   "outputs": [
    {
     "data": {
      "image/png": "[encoded data removed]",
      "text/plain": [
       "<Figure size 432x288 with 1 Axes>"
      ]
     },
     "metadata": {},
     "output_type": "display_data"
    }
   ],
   "source": [
    "from sklearn.metrics import precision_recall_curve\n",
    "precisions, recalls, thresholds = precision_recall_curve(y_train, y_scores)\n",
    "\n",
    "def plot_precision_recall_vs_threshold(precisions, recalls, thresholds):\n",
    "    plt.plot(thresholds, precisions[:-1], \"b--\", label=\"Precision\")\n",
    "    plt.plot(thresholds, recalls[:-1], \"g--\", label=\"Recall\")\n",
    "    plt.xlabel(\"Threshold\")\n",
    "    plt.legend(loc=\"upper left\")\n",
    "    plt.ylim([0, 1])\n",
    "plot_precision_recall_vs_threshold(precisions, recalls, thresholds)\n",
    "plt.show()"
   ]
  },
  {
   "cell_type": "code",
   "execution_count": 42,
   "metadata": {},
   "outputs": [
    {
     "data": {
      "image/png": "[encoded data removed]",
      "text/plain": [
       "<Figure size 432x288 with 1 Axes>"
      ]
     },
     "metadata": {},
     "output_type": "display_data"
    },
    {
     "name": "stdout",
     "output_type": "stream",
     "text": [
      "Area under ROC curve 0.7079152731326643\n"
     ]
    }
   ],
   "source": [
    "from sklearn.metrics import roc_curve\n",
    "from sklearn.metrics import roc_auc_score\n",
    "fpr, tpr, thresholds = roc_curve(y_train, y_scores)\n",
    "\n",
    "def plot_roc_curve(fpr, tpr, label=None):\n",
    "    plt.plot(fpr, tpr, linewidth=2, label=label)\n",
    "    plt.plot([0, 1], [0, 1], 'k--')\n",
    "    plt.axis([0, 1, 0, 1])\n",
    "    plt.xlabel('False Positive Rate')\n",
    "    plt.ylabel('True Positive Rate')\n",
    "plot_roc_curve(fpr, tpr)\n",
    "plt.show()\n",
    "\n",
    "print('Area under ROC curve',roc_auc_score(y_train, y_scores))"
   ]
  },
  {
   "cell_type": "code",
   "execution_count": 44,
   "metadata": {},
   "outputs": [
    {
     "name": "stdout",
     "output_type": "stream",
     "text": [
      "(101,)\n",
      "[0 0 0 0 0 1 0 0 0 0 1 1 0 0 0 1 0 0 1 0 1 0 0 0 0 0 0 0 0 1 0 0 0 0 0 0 0\n",
      " 1 0 0 0 0 1 0 0 0 0 0 0 0 0 1 1 0 0 1 0 0 1 0 0 0 0 0 0 1 0 1 0 0 0 1 0 0\n",
      " 0 0 0 0 0 1 0 1 0 0 1 0 0 0 0 0 0 0 1 1 1 0 1 0 0 0 0]\n",
      "Precision (% when positive prediction is correct):\n",
      " 0.42857142857142855 \n",
      "\n",
      "Recall (% of bad RO instances detected):\n",
      " 0.5217391304347826 \n",
      "\n"
     ]
    }
   ],
   "source": [
    "y_train_pred_thresholding = (y_scores > -0.5)\n",
    "print(y_train.shape)\n",
    "print(y_train)\n",
    "\n",
    "print('Precision (% when positive prediction is correct):\\n',precision_score(y_train,y_train_pred_thresholding),'\\n')\n",
    "print('Recall (% of bad RO instances detected):\\n',recall_score(y_train, y_train_pred_thresholding),'\\n')"
   ]
  },
  {
   "cell_type": "code",
   "execution_count": null,
   "metadata": {},
   "outputs": [],
   "source": []
  }
 ],
 "metadata": {
  "kernelspec": {
   "display_name": "Python 3",
   "language": "python",
   "name": "python3"
  },
  "language_info": {
   "codemirror_mode": {
    "name": "ipython",
    "version": 3
   },
   "file_extension": ".py",
   "mimetype": "text/x-python",
   "name": "python",
   "nbconvert_exporter": "python",
   "pygments_lexer": "ipython3",
   "version": "3.6.6"
  }
 },
 "nbformat": 4,
 "nbformat_minor": 2
}
