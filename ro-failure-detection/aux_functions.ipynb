{
 "cells": [
  {
   "cell_type": "code",
   "execution_count": 3,
   "metadata": {},
   "outputs": [
    {
     "name": "stdout",
     "output_type": "stream",
     "text": [
      "Opening and combining file:  /Users/roberto/data/RO-logging/2maxEVecs-ro-dataset.csv\n",
      "Opening and combining file:  /Users/roberto/data/RO-logging/3maxEVecs-ro-dataset.csv\n",
      "Opening and combining file:  /Users/roberto/data/RO-logging/4maxEVecs-ro-dataset.csv\n",
      "Opening and combining file:  /Users/roberto/data/RO-logging/5maxEVecs-ro-dataset.csv\n",
      "Opening and combining file:  /Users/roberto/data/RO-logging/6maxEVecs-ro-dataset.csv\n",
      "Opening and combining file:  /Users/roberto/data/RO-logging/7maxEVecs-ro-dataset.csv\n"
     ]
    }
   ],
   "source": [
    "# Code to combine multiple csv files from matlab from multiple RO failure datasets\n",
    "# Couldn't find an easy way to do this in matlab\n",
    "# https://stackoverflow.com/questions/2512386/how-to-merge-200-csv-files-in-python\n",
    "\n",
    "fout=open(\"/Users/roberto/data/RO-logging/maxEVecs-ro-dataset.csv\",\"w\")\n",
    "# first file:\n",
    "for line in open(\"/Users/roberto/data/RO-logging/1maxEVecs-ro-dataset.csv\"):\n",
    "    fout.write(line)\n",
    "# now the rest:    \n",
    "for num in range(2,8):\n",
    "    filename = \"/Users/roberto/data/RO-logging/\"+str(num)+\"maxEVecs-ro-dataset.csv\"\n",
    "    f = open(filename)\n",
    "    print('Opening and combining file: ',\"/Users/roberto/data/RO-logging/\"+str(num)+\"maxEVecs-ro-dataset.csv\")\n",
    "    for line in f:\n",
    "         fout.write(line)\n",
    "    f.close() # not really needed\n",
    "fout.close()"
   ]
  },
  {
   "cell_type": "code",
   "execution_count": 7,
   "metadata": {},
   "outputs": [
    {
     "name": "stdout",
     "output_type": "stream",
     "text": [
      "Opening and combining file:  /Users/roberto/data/RO-logging/datasets/ro-eigenvecs/2combined_data.csv\n",
      "Opening and combining file:  /Users/roberto/data/RO-logging/datasets/ro-eigenvecs/3combined_data.csv\n",
      "Opening and combining file:  /Users/roberto/data/RO-logging/datasets/ro-eigenvecs/4combined_data.csv\n",
      "Opening and combining file:  /Users/roberto/data/RO-logging/datasets/ro-eigenvecs/5combined_data.csv\n",
      "Opening and combining file:  /Users/roberto/data/RO-logging/datasets/ro-eigenvecs/6combined_data.csv\n"
     ]
    }
   ],
   "source": [
    "# Code to combine multiple csv files from matlab from multiple RO failure datasets\n",
    "# Couldn't find an easy way to do this in matlab\n",
    "# https://stackoverflow.com/questions/2512386/how-to-merge-200-csv-files-in-python\n",
    "\n",
    "fout=open(\"/Users/roberto/data/RO-logging/datasets/ro-eigenvecs/maxEVecs-ro-dataset.csv\",\"w\")\n",
    "# first file:\n",
    "for line in open(\"/Users/roberto/data/RO-logging/datasets/ro-eigenvecs/1combined_data.csv\"):\n",
    "    fout.write(line)\n",
    "# now the rest:    \n",
    "for num in range(2,7):\n",
    "    filename = \"/Users/roberto/data/RO-logging/datasets/ro-eigenvecs/\"+str(num)+\"combined_data.csv\"\n",
    "    f = open(filename)\n",
    "    print('Opening and combining file: ',\"/Users/roberto/data/RO-logging/datasets/ro-eigenvecs/\"+str(num)+\"combined_data.csv\")\n",
    "    for line in f:\n",
    "         fout.write(line)\n",
    "    f.close() # not really needed\n",
    "fout.close()"
   ]
  },
  {
   "cell_type": "code",
   "execution_count": null,
   "metadata": {},
   "outputs": [],
   "source": []
  }
 ],
 "metadata": {
  "kernelspec": {
   "display_name": "Python 3",
   "language": "python",
   "name": "python3"
  },
  "language_info": {
   "codemirror_mode": {
    "name": "ipython",
    "version": 3
   },
   "file_extension": ".py",
   "mimetype": "text/x-python",
   "name": "python",
   "nbconvert_exporter": "python",
   "pygments_lexer": "ipython3",
   "version": "3.6.6"
  }
 },
 "nbformat": 4,
 "nbformat_minor": 2
}
