{
 "cells": [
  {
   "cell_type": "code",
   "execution_count": 1,
   "metadata": {},
   "outputs": [],
   "source": [
    "import sys\n",
    "sys.path.append(\"/Users/roberto/code/robust-me-scripts/scripts\")\n",
    "sys.path.append(\"/Users/roberto/code/robust-me-scripts/scripts/config\")\n",
    "sys.path.append(\"/Users/roberto/code/corelibs/src/tools-python\")\n",
    "sys.path.append(\"/Users/roberto/code/corelibs/build/datatypes\")\n",
    "sys.path.append(\"/Users/roberto/code/corelibs/build/datatypes/datatypes_python\")\n",
    "sys.path.append(\"/Users/roberto/code/radar-utilities/build/radarutilities_datatypes_python\")\n",
    "from figs import plot\n",
    "import motion\n",
    "\n",
    "# To support both python 2 and python 3\n",
    "from __future__ import division, print_function, unicode_literals\n",
    "\n",
    "# Common imports\n",
    "import numpy as np\n",
    "import pandas as pd\n",
    "import os\n",
    "from numpy import *\n",
    "import module\n",
    "import settings\n",
    "\n",
    "%matplotlib inline\n",
    "import matplotlib\n",
    "import matplotlib.pyplot as plt\n",
    "plt.rcParams['axes.titlepad'] = 20\n",
    "plt.rcParams['axes.grid'] = True\n",
    "plt.rcParams.update({'font.size': 28})\n",
    "plt.rcParams['text.usetex'] = True\n",
    "plt.rc(\"text\", usetex=True)\n",
    "plt.rc(\"font\", family='serif')\n",
    "module.set_sys_paths()\n",
    "\n",
    "from mrg.logging import MonolithicDecoder\n",
    "from mrg.adaptors.transform import PbSerialisedTransformToPython\n",
    "from mrg.transform.conversions import se3_to_components, build_se3_transform\n",
    "\n",
    "from mrg.logging.monolithic_encoder import encodeForMonolithic\n",
    "sys.path.append(\"/Users/roberto/code/radar-utilities/build/radarutilities_datatypes_python/\"\n",
    "                \"protobuf/classification_score\")\n",
    "import pbClassificationScore_pb2 as pbClassificationScore_pb2\n",
    "\n",
    "import numpy as np\n",
    "from config.data import *"
   ]
  },
  {
   "cell_type": "code",
   "execution_count": 347,
   "metadata": {},
   "outputs": [],
   "source": [
    "def trainSVM(numElems=5,num_scans_used=18):\n",
    "    # Train\n",
    "    from sklearn.svm import SVC\n",
    "\n",
    "    # filename = '/Users/roberto/data/RO-logging/2019-02-06-11-52-52/tmp_combined_data.csv';\n",
    "    # filename = '/Users/roberto/data/RO-logging/datasets/ro-eigenvecs/maxEVecs-ro-dataset.csv';\n",
    "    dateAndTime = \"2019-03-18-15-00-42-velCorrectorOn/\";\n",
    "    filename = \"/Users/roberto/data/odometry-comparisons/rugged_ro/\"\\\n",
    "    \"2018-06-21-15-58-58-rural-loop-v4-radar-leopon-trial-sunny-long-range/\"\\\n",
    "    \"motion_estimation/standard-ro/\"+dateAndTime+'tmp_combined_data.csv';\n",
    "\n",
    "    print('Reading from: ' + filename)\n",
    "    df_combined_data = pd.read_csv(filename, names=range(2400))\n",
    "    df_maxEVecs = df_combined_data.iloc[:,1:] #pd.read_csv(filename, names=range(2400))\n",
    "\n",
    "    df_labels = df_combined_data.iloc[:,0:1]\n",
    "    labels = np.copy(df_labels.values)\n",
    "    labels = labels.T\n",
    "\n",
    "    [m,n] = shape(df_maxEVecs)\n",
    "\n",
    "    print(\"Shape of max eigenvecs is:\\n\",shape(df_maxEVecs))\n",
    "    print(\"Shape of labels is:\\n\",shape(df_labels))\n",
    "    print(\"Shape of data is:\\n\",shape(df_combined_data))\n",
    "\n",
    "    # Filter labels\n",
    "    import scipy.signal\n",
    "    raw_labels = ravel(labels)\n",
    "    filtered_labels = np.array(raw_labels)\n",
    "    filtered_labels = scipy.signal.medfilt(filtered_labels,5)\n",
    "\n",
    "    # Take evenly spaced elements as features\n",
    "    arr = np.copy(df_maxEVecs.values)\n",
    "#     numElems = 5#40\n",
    "    eig_len = arr.shape[1]\n",
    "    idx = np.round(np.linspace(0, eig_len - 1, numElems)).astype(int)\n",
    "    train_features = []\n",
    "    for eig_idx in range(0,m):\n",
    "        train_features.append(arr[eig_idx][idx])\n",
    "    df_features = pd.DataFrame(train_features)\n",
    "\n",
    "    # Take previous eigenvector features and add them to the list\n",
    "#     num_scans_used = 18\n",
    "    for scan_idx in range(1,num_scans_used):\n",
    "        for elem_idx in range (0,numElems):\n",
    "            col_idx = elem_idx+numElems*scan_idx\n",
    "            df_features[col_idx] = df_features[elem_idx].iloc[:-1]\n",
    "            df_features[col_idx] = df_features[col_idx].shift(scan_idx)\n",
    "            df_features.loc[0:scan_idx,col_idx] = df_features[elem_idx].iloc[0]\n",
    "    print('Shape of features:',df_features.shape)\n",
    "\n",
    "    # Process data for training\n",
    "    from sklearn.model_selection import StratifiedShuffleSplit\n",
    "\n",
    "    maxEVecs = np.array(df_maxEVecs.values)\n",
    "    # y_labels = ravel(labels)\n",
    "    y_labels = filtered_labels # try to reduce label noise\n",
    "    y_labels_raw = ravel(labels)\n",
    "\n",
    "    print('Good RO: ',np.count_nonzero(y_labels==-1))\n",
    "    print('Bad RO:',np.count_nonzero(y_labels==1),'\\n')\n",
    "\n",
    "    X_total = np.copy(df_features.values)\n",
    "    y_total = np.copy(y_labels)\n",
    "    y_total_raw = np.copy(y_labels_raw)\n",
    "\n",
    "    sss = StratifiedShuffleSplit(n_splits=1, test_size = 0.2, random_state=0)\n",
    "\n",
    "    for train_index, test_index in sss.split(X_total, y_total,y_total_raw):\n",
    "        X_train, X_test = X_total[train_index], X_total[test_index]\n",
    "        y_train, y_test = y_total[train_index], y_total[test_index]\n",
    "        y_train_raw, y_test_raw = y_total_raw[train_index], y_total[test_index]\n",
    "        eig_train, eig_test = maxEVecs[train_index], maxEVecs[test_index]\n",
    "\n",
    "    print('Good vs Bad RO in training: ',np.count_nonzero(y_train==-1),'good,',np.count_nonzero(y_train==1),'bad')\n",
    "    print('Good vs Bad RO in testing:',np.count_nonzero(y_test==-1),'good,',np.count_nonzero(y_test==1),'bad \\n')\n",
    "\n",
    "    print('Good/Bad ratio in training: ',np.count_nonzero(y_train==-1)/np.count_nonzero(y_train==1))\n",
    "    print('Good/Bad ratio in testing:',np.count_nonzero(y_test==-1)/np.count_nonzero(y_test==1),'\\n')\n",
    "\n",
    "    print('Bad RO % in training: ',np.count_nonzero(y_train==1)/y_train.shape[0])\n",
    "    print('Bad RO % in testing:',np.count_nonzero(y_test==1)/y_test.shape[0],'\\n')\n",
    "\n",
    "    [m_train,n_train] = shape(X_train)\n",
    "    [m_test,n_test] = shape(X_test)\n",
    "    print(\"Size of training data is: \\n\",shape(X_train))\n",
    "    print(\"Size of test data is: \\n\",shape(X_test))\n",
    "\n",
    "    from sklearn import preprocessing\n",
    "\n",
    "    scaler = preprocessing.StandardScaler().fit(X_train)\n",
    "    X_scaled = preprocessing.scale(X_train)\n",
    "    X_train = scaler.transform(X_train)\n",
    "    X_test = scaler.transform(X_test)\n",
    "\n",
    "    # Calculate metrics\n",
    "    from sklearn.svm import SVC\n",
    "    from sklearn.metrics import f1_score,precision_score,recall_score\n",
    "    from sklearn.metrics import average_precision_score\n",
    "\n",
    "    # SVM Classifier model\n",
    "    clf = SVC(kernel=\"linear\",class_weight='balanced', C=float(1),gamma=0.001,random_state=0)\n",
    "    print(clf.fit(X_train, y_train))\n",
    "\n",
    "    y_predictions_X_train = clf.predict(X_train)\n",
    "    dec_func_X_train = clf.decision_function(X_train)\n",
    "\n",
    "    print('\\nTrain metrics:')\n",
    "    print('Accuracy:',clf.score(X_train,y_train))\n",
    "    print('Precision:',precision_score(y_train,y_predictions_X_train))\n",
    "    print('Recall:',recall_score(y_train,y_predictions_X_train))\n",
    "    print('F1 score:',f1_score(y_train,y_predictions_X_train))\n",
    "    print('Average precision:',average_precision_score(y_train,dec_func_X_train))\n",
    "\n",
    "    # y_predictions_X_test = clf.predict(X_test)\n",
    "    # dec_func_X_test = clf.decision_function(X_test)\n",
    "\n",
    "    # print('\\nTest metrics:')\n",
    "    # print('Accuracy:',clf.score(X_test,y_test))\n",
    "    # print('Precision:',precision_score(y_test,y_predictions_X_test))\n",
    "    # print('Recall:',recall_score(y_test,y_predictions_X_test))\n",
    "    # print('F1 score:',f1_score(y_test,y_predictions_X_test))\n",
    "    # print('Average precision:',average_precision_score(y_test,dec_func_X_test))\n",
    "\n",
    "    from sklearn import metrics\n",
    "    from sklearn.model_selection import cross_val_score\n",
    "    tmp_score = 'average_precision'\n",
    "    scores = cross_val_score(\n",
    "        clf, X_train, y_train, cv=5, scoring=tmp_score)\n",
    "    print('\\nCross validation:\\n',scores)\n",
    "    print('Mean average precision score:',scores.mean())\n",
    "    print('Std dev average precision score:',scores.std())\n",
    "    \n",
    "    print('Training complete!')\n",
    "    return(clf,scaler,X_total)"
   ]
  },
  {
   "cell_type": "code",
   "execution_count": 297,
   "metadata": {},
   "outputs": [],
   "source": [
    "def extractElementsFromEigvec(eigvec,numElems=5):\n",
    "#     print('Extracting features...')\n",
    "    # Take evenly spaced elements as features\n",
    "    arr = np.array(eigvec)\n",
    "    eig_len = len(arr)\n",
    "    idx = np.round(np.linspace(0, eig_len - 1, numElems)).astype(int)\n",
    "    eig_features = arr[idx]\n",
    "#     print(eig_features)\n",
    "    return(eig_features)"
   ]
  },
  {
   "cell_type": "code",
   "execution_count": 298,
   "metadata": {},
   "outputs": [
    {
     "data": {
      "image/png": "[encoded data removed]",
      "text/plain": [
       "<Figure size 432x288 with 1 Axes>"
      ]
     },
     "metadata": {},
     "output_type": "display_data"
    }
   ],
   "source": [
    "tmp_eigvec = df_maxEVecs.iloc[0]\n",
    "eig_features = extractElementsFromEigvec(tmp_eigvec)\n",
    "plt.plot(eig_features,'*-');"
   ]
  },
  {
   "cell_type": "code",
   "execution_count": 299,
   "metadata": {},
   "outputs": [
    {
     "data": {
      "text/plain": [
       "(90,)"
      ]
     },
     "execution_count": 299,
     "metadata": {},
     "output_type": "execute_result"
    }
   ],
   "source": [
    "from collections import deque\n",
    "N = num_scans_used\n",
    "previousF = deque()\n",
    "currentF = eig_features\n",
    "\n",
    "def extractFeatures(currentFeatures,previousFeatures,numElems=5):\n",
    "# Take previous eigenvector features and add them to the list\n",
    "# Remove older features, shift features along, add latest features\n",
    "    combinedFeatures = previousFeatures\n",
    "    combinedFeatures.extend(currentFeatures)\n",
    "    if(len(combinedFeatures) > (N*numElems)):\n",
    "        [combinedFeatures.popleft() for _i in range(numElems)]\n",
    "    return(combinedFeatures)\n",
    "\n",
    "# combinedFeatures = extractFeatures(currentF,previousF)\n",
    "# print(combinedFeatures)\n",
    "\n",
    "temp_eigvecs = np.array(df_maxEVecs.iloc[0:30])\n",
    "tmp_data = []\n",
    "combinedFeatures = deque()\n",
    "for i in range(25):\n",
    "    prevF = combinedFeatures\n",
    "    tmp = extractElementsFromEigvec(temp_eigvecs[i])\n",
    "    combinedFeatures = extractFeatures(tmp,prevF)\n",
    "shape(combinedFeatures)"
   ]
  },
  {
   "cell_type": "code",
   "execution_count": 326,
   "metadata": {},
   "outputs": [],
   "source": [
    "def classifyOnFeatures(clf,scaler,combinedFeatures,N=18,numElems=5):\n",
    "    if(len(combinedFeatures) >= (N*numElems)):\n",
    "        # reshape\n",
    "        sample = np.array(combinedFeatures)\n",
    "        sample = sample.reshape((1,sample.shape[0]))\n",
    "        # run classifier\n",
    "        X_data = scaler.transform(sample)\n",
    "        score = clf.predict(X_data)\n",
    "    else:\n",
    "        # not enough eigenvectors yet\n",
    "        score = -1 # assume good RO\n",
    "    return score\n",
    "\n",
    "# score = classifyOnFeatures(clf,scaler,combinedFeatures)\n",
    "# print(score)"
   ]
  },
  {
   "cell_type": "code",
   "execution_count": 331,
   "metadata": {},
   "outputs": [],
   "source": [
    "def runClassifier(eigvec,total_features):\n",
    "#     print('Running classification on current eigenvector...')\n",
    "    latest_features = extractElementsFromEigvec(eigvec)\n",
    "    total_features = extractFeatures(latest_features,total_features)\n",
    "    score = classifyOnFeatures(clf,scaler,total_features)\n",
    "    return(score)\n",
    "    "
   ]
  },
  {
   "cell_type": "code",
   "execution_count": 343,
   "metadata": {},
   "outputs": [],
   "source": [
    "total_features = deque()\n",
    "tmp_scores = []\n",
    "for i in range(len(X_total)):\n",
    "    score = runClassifier(df_maxEVecs.iloc[i],total_features)\n",
    "    tmp_scores.append(score)\n",
    "#     print(score)"
   ]
  },
  {
   "cell_type": "code",
   "execution_count": 345,
   "metadata": {},
   "outputs": [
    {
     "data": {
      "text/plain": [
       "[<matplotlib.lines.Line2D at 0x12b873e48>]"
      ]
     },
     "execution_count": 345,
     "metadata": {},
     "output_type": "execute_result"
    },
    {
     "data": {
      "image/png": "[encoded data removed]",
      "text/plain": [
       "<Figure size 2160x576 with 1 Axes>"
      ]
     },
     "metadata": {},
     "output_type": "display_data"
    }
   ],
   "source": [
    "plt.figure(figsize=(30,8))\n",
    "plt.plot(tmp_scores,'.')"
   ]
  },
  {
   "cell_type": "code",
   "execution_count": 363,
   "metadata": {},
   "outputs": [
    {
     "name": "stdout",
     "output_type": "stream",
     "text": [
      "[4. 3. 2. 1. 0. 0. 0. 0. 0. 0.]\n"
     ]
    }
   ],
   "source": [
    "tmpvec = [4,3,2,1]\n",
    "bigvec = np.zeros(10)\n",
    "bigvec[:len(tmpvec)]=tmpvec\n",
    "print(bigvec)"
   ]
  },
  {
   "cell_type": "code",
   "execution_count": 380,
   "metadata": {},
   "outputs": [
    {
     "name": "stdout",
     "output_type": "stream",
     "text": [
      "Current eigvec features: [0.0267034, 1614, 39.88041469]\n"
     ]
    },
    {
     "data": {
      "image/png": "[encoded data removed]",
      "text/plain": [
       "<Figure size 432x288 with 1 Axes>"
      ]
     },
     "metadata": {},
     "output_type": "display_data"
    }
   ],
   "source": [
    "def extractCustomFeaturesFromEigvec(eigvec,num_elems=5):\n",
    "#     print('Extracting features...')\n",
    "    eig_features = []\n",
    "    arr = np.array(eigvec)\n",
    "    arr_fixed_length = np.zeros(2400)\n",
    "    arr_fixed_length[:len(arr)] = arr \n",
    "    sorted_max_evec = sort(arr_fixed_length)[::-1]\n",
    "    max_val = sorted_max_evec[0]\n",
    "    num_landmarks = count_nonzero(sorted_max_evec)\n",
    "    area_under_curve = []\n",
    "    temp_sum = 0;\n",
    "    for i in range(len(arr)):\n",
    "        temp_sum += arr[i]\n",
    "    area_under_curve = temp_sum\n",
    "    eig_features.append(max_val)\n",
    "    eig_features.append(num_landmarks)\n",
    "    eig_features.append(area_under_curve)\n",
    "    print('Current eigvec features:',eig_features)\n",
    "    return(eig_features)\n",
    "\n",
    "tmp_eigvec = df_maxEVecs.iloc[0]\n",
    "eig_features = extractCustomFeaturesFromEigvec(tmp_eigvec)\n",
    "plt.plot(eig_features,'*-');"
   ]
  },
  {
   "cell_type": "code",
   "execution_count": null,
   "metadata": {},
   "outputs": [],
   "source": []
  },
  {
   "cell_type": "code",
   "execution_count": null,
   "metadata": {},
   "outputs": [],
   "source": []
  }
 ],
 "metadata": {
  "kernelspec": {
   "display_name": "Python 3",
   "language": "python",
   "name": "python3"
  },
  "language_info": {
   "codemirror_mode": {
    "name": "ipython",
    "version": 3
   },
   "file_extension": ".py",
   "mimetype": "text/x-python",
   "name": "python",
   "nbconvert_exporter": "python",
   "pygments_lexer": "ipython3",
   "version": "3.6.6"
  }
 },
 "nbformat": 4,
 "nbformat_minor": 2
}
