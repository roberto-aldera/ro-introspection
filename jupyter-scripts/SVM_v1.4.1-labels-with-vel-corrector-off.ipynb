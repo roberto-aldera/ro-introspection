{
 "cells": [
  {
   "cell_type": "code",
   "execution_count": 112,
   "metadata": {},
   "outputs": [],
   "source": [
    "# To support both python 2 and python 3\n",
    "from __future__ import division, print_function, unicode_literals\n",
    "\n",
    "# Common imports\n",
    "import numpy as np\n",
    "import pandas as pd\n",
    "import os\n",
    "from numpy import *\n",
    "\n",
    "# to make this notebook's output stable across runs\n",
    "np.random.seed(42)\n",
    "\n",
    "# To plot pretty figures\n",
    "%matplotlib inline\n",
    "import matplotlib\n",
    "import matplotlib.pyplot as plt\n",
    "plt.rcParams['axes.labelsize'] = 16 #32\n",
    "plt.rcParams['xtick.labelsize'] = 16 #24\n",
    "plt.rcParams['ytick.labelsize'] = 16 #24\n",
    "plt.rcParams['legend.fontsize'] = 16 #32\n",
    "plt.rcParams['text.usetex'] = True\n",
    "plt.rc(\"text\", usetex=True)\n",
    "plt.rc(\"font\", family='serif')\n"
   ]
  },
  {
   "cell_type": "code",
   "execution_count": 113,
   "metadata": {},
   "outputs": [
    {
     "name": "stdout",
     "output_type": "stream",
     "text": [
      "Reading from: /Users/roberto/data/odometry-comparisons/rugged_ro/2018-06-21-15-58-58-rural-loop-v4-radar-leopon-trial-sunny-long-range/motion_estimation/standard-ro/2019-04-01-10-01-31-velCorrectorOff/tmp_combined_data.csv\n",
      "Shape of max eigenvecs is:\n",
      " (5955, 2399)\n",
      "Shape of labels is:\n",
      " (5955, 1)\n",
      "Shape of data is:\n",
      " (5955, 2400)\n"
     ]
    }
   ],
   "source": [
    "from sklearn.svm import SVC\n",
    "\n",
    "# filename = '/Users/roberto/data/RO-logging/2019-02-06-11-52-52/tmp_combined_data.csv';\n",
    "# filename = '/Users/roberto/data/RO-logging/datasets/ro-eigenvecs/maxEVecs-ro-dataset.csv';\n",
    "dateAndTime = \"2019-04-01-10-01-31-velCorrectorOff/\";\n",
    "filename = \"/Users/roberto/data/odometry-comparisons/rugged_ro/\"\\\n",
    "\"2018-06-21-15-58-58-rural-loop-v4-radar-leopon-trial-sunny-long-range/\"\\\n",
    "\"motion_estimation/standard-ro/\"+dateAndTime+'tmp_combined_data.csv';\n",
    "\n",
    "print('Reading from: ' + filename)\n",
    "df_combined_data = pd.read_csv(filename, names=range(2400))\n",
    "df_maxEVecs = df_combined_data.iloc[:,1:] #pd.read_csv(filename, names=range(2400))\n",
    "\n",
    "df_labels = df_combined_data.iloc[:,0:1]\n",
    "labels = np.copy(df_labels.values)\n",
    "labels = labels.T\n",
    "\n",
    "[m,n] = shape(df_maxEVecs)\n",
    "\n",
    "print(\"Shape of max eigenvecs is:\\n\",shape(df_maxEVecs))\n",
    "print(\"Shape of labels is:\\n\",shape(df_labels))\n",
    "print(\"Shape of data is:\\n\",shape(df_combined_data))"
   ]
  },
  {
   "cell_type": "code",
   "execution_count": 114,
   "metadata": {},
   "outputs": [
    {
     "name": "stdout",
     "output_type": "stream",
     "text": [
      "1392\n"
     ]
    },
    {
     "data": {
      "image/png": "[encoded data removed]",
      "text/plain": [
       "<Figure size 432x288 with 1 Axes>"
      ]
     },
     "metadata": {},
     "output_type": "display_data"
    }
   ],
   "source": [
    "df_labels.head()\n",
    "plt.plot(df_labels)\n",
    "print(np.count_nonzero(df_labels==1))"
   ]
  },
  {
   "cell_type": "code",
   "execution_count": 115,
   "metadata": {},
   "outputs": [
    {
     "data": {
      "text/html": [
       "<div>\n",
       "<style scoped>\n",
       "    .dataframe tbody tr th:only-of-type {\n",
       "        vertical-align: middle;\n",
       "    }\n",
       "\n",
       "    .dataframe tbody tr th {\n",
       "        vertical-align: top;\n",
       "    }\n",
       "\n",
       "    .dataframe thead th {\n",
       "        text-align: right;\n",
       "    }\n",
       "</style>\n",
       "<table border=\"1\" class=\"dataframe\">\n",
       "  <thead>\n",
       "    <tr style=\"text-align: right;\">\n",
       "      <th></th>\n",
       "      <th>1</th>\n",
       "      <th>2</th>\n",
       "      <th>3</th>\n",
       "      <th>4</th>\n",
       "      <th>5</th>\n",
       "      <th>6</th>\n",
       "      <th>7</th>\n",
       "      <th>8</th>\n",
       "      <th>9</th>\n",
       "      <th>10</th>\n",
       "      <th>...</th>\n",
       "      <th>2390</th>\n",
       "      <th>2391</th>\n",
       "      <th>2392</th>\n",
       "      <th>2393</th>\n",
       "      <th>2394</th>\n",
       "      <th>2395</th>\n",
       "      <th>2396</th>\n",
       "      <th>2397</th>\n",
       "      <th>2398</th>\n",
       "      <th>2399</th>\n",
       "    </tr>\n",
       "  </thead>\n",
       "  <tbody>\n",
       "    <tr>\n",
       "      <th>0</th>\n",
       "      <td>0.026703</td>\n",
       "      <td>0.026701</td>\n",
       "      <td>0.026697</td>\n",
       "      <td>0.026691</td>\n",
       "      <td>0.026687</td>\n",
       "      <td>0.026681</td>\n",
       "      <td>0.026679</td>\n",
       "      <td>0.026677</td>\n",
       "      <td>0.026674</td>\n",
       "      <td>0.026669</td>\n",
       "      <td>...</td>\n",
       "      <td>0.0</td>\n",
       "      <td>0.0</td>\n",
       "      <td>0.0</td>\n",
       "      <td>0.0</td>\n",
       "      <td>0.0</td>\n",
       "      <td>0.0</td>\n",
       "      <td>0.0</td>\n",
       "      <td>0.0</td>\n",
       "      <td>0.0</td>\n",
       "      <td>0.0</td>\n",
       "    </tr>\n",
       "    <tr>\n",
       "      <th>1</th>\n",
       "      <td>0.026912</td>\n",
       "      <td>0.026907</td>\n",
       "      <td>0.026902</td>\n",
       "      <td>0.026900</td>\n",
       "      <td>0.026899</td>\n",
       "      <td>0.026898</td>\n",
       "      <td>0.026897</td>\n",
       "      <td>0.026896</td>\n",
       "      <td>0.026895</td>\n",
       "      <td>0.026895</td>\n",
       "      <td>...</td>\n",
       "      <td>0.0</td>\n",
       "      <td>0.0</td>\n",
       "      <td>0.0</td>\n",
       "      <td>0.0</td>\n",
       "      <td>0.0</td>\n",
       "      <td>0.0</td>\n",
       "      <td>0.0</td>\n",
       "      <td>0.0</td>\n",
       "      <td>0.0</td>\n",
       "      <td>0.0</td>\n",
       "    </tr>\n",
       "    <tr>\n",
       "      <th>2</th>\n",
       "      <td>0.026940</td>\n",
       "      <td>0.026938</td>\n",
       "      <td>0.026935</td>\n",
       "      <td>0.026923</td>\n",
       "      <td>0.026916</td>\n",
       "      <td>0.026915</td>\n",
       "      <td>0.026914</td>\n",
       "      <td>0.026909</td>\n",
       "      <td>0.026908</td>\n",
       "      <td>0.026902</td>\n",
       "      <td>...</td>\n",
       "      <td>0.0</td>\n",
       "      <td>0.0</td>\n",
       "      <td>0.0</td>\n",
       "      <td>0.0</td>\n",
       "      <td>0.0</td>\n",
       "      <td>0.0</td>\n",
       "      <td>0.0</td>\n",
       "      <td>0.0</td>\n",
       "      <td>0.0</td>\n",
       "      <td>0.0</td>\n",
       "    </tr>\n",
       "    <tr>\n",
       "      <th>3</th>\n",
       "      <td>0.026921</td>\n",
       "      <td>0.026917</td>\n",
       "      <td>0.026916</td>\n",
       "      <td>0.026915</td>\n",
       "      <td>0.026910</td>\n",
       "      <td>0.026895</td>\n",
       "      <td>0.026893</td>\n",
       "      <td>0.026864</td>\n",
       "      <td>0.026862</td>\n",
       "      <td>0.026858</td>\n",
       "      <td>...</td>\n",
       "      <td>0.0</td>\n",
       "      <td>0.0</td>\n",
       "      <td>0.0</td>\n",
       "      <td>0.0</td>\n",
       "      <td>0.0</td>\n",
       "      <td>0.0</td>\n",
       "      <td>0.0</td>\n",
       "      <td>0.0</td>\n",
       "      <td>0.0</td>\n",
       "      <td>0.0</td>\n",
       "    </tr>\n",
       "    <tr>\n",
       "      <th>4</th>\n",
       "      <td>0.026924</td>\n",
       "      <td>0.026924</td>\n",
       "      <td>0.026923</td>\n",
       "      <td>0.026921</td>\n",
       "      <td>0.026879</td>\n",
       "      <td>0.026874</td>\n",
       "      <td>0.026873</td>\n",
       "      <td>0.026871</td>\n",
       "      <td>0.026870</td>\n",
       "      <td>0.026856</td>\n",
       "      <td>...</td>\n",
       "      <td>0.0</td>\n",
       "      <td>0.0</td>\n",
       "      <td>0.0</td>\n",
       "      <td>0.0</td>\n",
       "      <td>0.0</td>\n",
       "      <td>0.0</td>\n",
       "      <td>0.0</td>\n",
       "      <td>0.0</td>\n",
       "      <td>0.0</td>\n",
       "      <td>0.0</td>\n",
       "    </tr>\n",
       "  </tbody>\n",
       "</table>\n",
       "<p>5 rows × 2399 columns</p>\n",
       "</div>"
      ],
      "text/plain": [
       "       1         2         3         4         5         6         7     \\\n",
       "0  0.026703  0.026701  0.026697  0.026691  0.026687  0.026681  0.026679   \n",
       "1  0.026912  0.026907  0.026902  0.026900  0.026899  0.026898  0.026897   \n",
       "2  0.026940  0.026938  0.026935  0.026923  0.026916  0.026915  0.026914   \n",
       "3  0.026921  0.026917  0.026916  0.026915  0.026910  0.026895  0.026893   \n",
       "4  0.026924  0.026924  0.026923  0.026921  0.026879  0.026874  0.026873   \n",
       "\n",
       "       8         9         10    ...   2390  2391  2392  2393  2394  2395  \\\n",
       "0  0.026677  0.026674  0.026669  ...    0.0   0.0   0.0   0.0   0.0   0.0   \n",
       "1  0.026896  0.026895  0.026895  ...    0.0   0.0   0.0   0.0   0.0   0.0   \n",
       "2  0.026909  0.026908  0.026902  ...    0.0   0.0   0.0   0.0   0.0   0.0   \n",
       "3  0.026864  0.026862  0.026858  ...    0.0   0.0   0.0   0.0   0.0   0.0   \n",
       "4  0.026871  0.026870  0.026856  ...    0.0   0.0   0.0   0.0   0.0   0.0   \n",
       "\n",
       "   2396  2397  2398  2399  \n",
       "0   0.0   0.0   0.0   0.0  \n",
       "1   0.0   0.0   0.0   0.0  \n",
       "2   0.0   0.0   0.0   0.0  \n",
       "3   0.0   0.0   0.0   0.0  \n",
       "4   0.0   0.0   0.0   0.0  \n",
       "\n",
       "[5 rows x 2399 columns]"
      ]
     },
     "execution_count": 115,
     "metadata": {},
     "output_type": "execute_result"
    }
   ],
   "source": [
    "# where_are_NaNs = isnan(df_maxEVecs)\n",
    "# df_maxEVecs[where_are_NaNs] = 0.0\n",
    "df_maxEVecs.head()"
   ]
  },
  {
   "cell_type": "code",
   "execution_count": 116,
   "metadata": {},
   "outputs": [
    {
     "name": "stdout",
     "output_type": "stream",
     "text": [
      "(5955, 3)\n"
     ]
    },
    {
     "data": {
      "text/html": [
       "<div>\n",
       "<style scoped>\n",
       "    .dataframe tbody tr th:only-of-type {\n",
       "        vertical-align: middle;\n",
       "    }\n",
       "\n",
       "    .dataframe tbody tr th {\n",
       "        vertical-align: top;\n",
       "    }\n",
       "\n",
       "    .dataframe thead th {\n",
       "        text-align: right;\n",
       "    }\n",
       "</style>\n",
       "<table border=\"1\" class=\"dataframe\">\n",
       "  <thead>\n",
       "    <tr style=\"text-align: right;\">\n",
       "      <th></th>\n",
       "      <th>max_vals</th>\n",
       "      <th>num_landmarks</th>\n",
       "      <th>area_under_curve</th>\n",
       "    </tr>\n",
       "  </thead>\n",
       "  <tbody>\n",
       "    <tr>\n",
       "      <th>0</th>\n",
       "      <td>0.026703</td>\n",
       "      <td>1614</td>\n",
       "      <td>39.880415</td>\n",
       "    </tr>\n",
       "    <tr>\n",
       "      <th>1</th>\n",
       "      <td>0.026912</td>\n",
       "      <td>1604</td>\n",
       "      <td>39.793883</td>\n",
       "    </tr>\n",
       "    <tr>\n",
       "      <th>2</th>\n",
       "      <td>0.026940</td>\n",
       "      <td>1604</td>\n",
       "      <td>39.721471</td>\n",
       "    </tr>\n",
       "    <tr>\n",
       "      <th>3</th>\n",
       "      <td>0.026921</td>\n",
       "      <td>1614</td>\n",
       "      <td>39.868023</td>\n",
       "    </tr>\n",
       "    <tr>\n",
       "      <th>4</th>\n",
       "      <td>0.026924</td>\n",
       "      <td>1612</td>\n",
       "      <td>39.847572</td>\n",
       "    </tr>\n",
       "  </tbody>\n",
       "</table>\n",
       "</div>"
      ],
      "text/plain": [
       "   max_vals  num_landmarks  area_under_curve\n",
       "0  0.026703           1614         39.880415\n",
       "1  0.026912           1604         39.793883\n",
       "2  0.026940           1604         39.721471\n",
       "3  0.026921           1614         39.868023\n",
       "4  0.026924           1612         39.847572"
      ]
     },
     "execution_count": 116,
     "metadata": {},
     "output_type": "execute_result"
    }
   ],
   "source": [
    "# Handcrafted features for all data (train and test data)\n",
    "eigenvectors = np.copy(df_maxEVecs.values)\n",
    "max_vals = []\n",
    "max_vals = eigenvectors[:,0]\n",
    "num_landmarks = count_nonzero(eigenvectors,axis=1)\n",
    "area_under_curve = []\n",
    "\n",
    "for i in range(m): \n",
    "    temp_sum = 0;\n",
    "    for j in range(n):\n",
    "        temp_sum += eigenvectors[i,j]\n",
    "    area_under_curve.append(temp_sum)\n",
    "    \n",
    "temp_dict = {'max_vals':max_vals,\n",
    "             'num_landmarks':num_landmarks,\n",
    "             'area_under_curve':area_under_curve}\n",
    "\n",
    "df_features = pd.DataFrame(data = temp_dict)\n",
    "print(df_features.shape)\n",
    "df_features.head()\n",
    "    \n",
    "# minus1_max_vals = [max_vals[0]]\n",
    "# minus1_max_vals = np.append(minus1_max_vals,max_vals[0:m-1])\n",
    "# minus1_num_landmarks = [num_landmarks[0]]\n",
    "# minus1_num_landmarks = np.append(minus1_num_landmarks,num_landmarks[0:m-1])\n",
    "# minus1_area_under_curve = [area_under_curve[0]]\n",
    "# minus1_area_under_curve = np.append(minus1_area_under_curve,area_under_curve[0:m-1])"
   ]
  },
  {
   "cell_type": "code",
   "execution_count": 117,
   "metadata": {},
   "outputs": [
    {
     "name": "stdout",
     "output_type": "stream",
     "text": [
      "(5955, 3)\n",
      "(5955, 54)\n"
     ]
    },
    {
     "data": {
      "text/html": [
       "<div>\n",
       "<style scoped>\n",
       "    .dataframe tbody tr th:only-of-type {\n",
       "        vertical-align: middle;\n",
       "    }\n",
       "\n",
       "    .dataframe tbody tr th {\n",
       "        vertical-align: top;\n",
       "    }\n",
       "\n",
       "    .dataframe thead th {\n",
       "        text-align: right;\n",
       "    }\n",
       "</style>\n",
       "<table border=\"1\" class=\"dataframe\">\n",
       "  <thead>\n",
       "    <tr style=\"text-align: right;\">\n",
       "      <th></th>\n",
       "      <th>maxVals</th>\n",
       "      <th>numLandmarks</th>\n",
       "      <th>areaUnderCurve</th>\n",
       "      <th>3</th>\n",
       "      <th>4</th>\n",
       "      <th>5</th>\n",
       "      <th>6</th>\n",
       "      <th>7</th>\n",
       "      <th>8</th>\n",
       "      <th>9</th>\n",
       "      <th>...</th>\n",
       "      <th>44</th>\n",
       "      <th>45</th>\n",
       "      <th>46</th>\n",
       "      <th>47</th>\n",
       "      <th>48</th>\n",
       "      <th>49</th>\n",
       "      <th>50</th>\n",
       "      <th>51</th>\n",
       "      <th>52</th>\n",
       "      <th>53</th>\n",
       "    </tr>\n",
       "  </thead>\n",
       "  <tbody>\n",
       "    <tr>\n",
       "      <th>0</th>\n",
       "      <td>0.026703</td>\n",
       "      <td>1614</td>\n",
       "      <td>39.880415</td>\n",
       "      <td>0.026703</td>\n",
       "      <td>1614.0</td>\n",
       "      <td>39.880415</td>\n",
       "      <td>0.026703</td>\n",
       "      <td>1614.0</td>\n",
       "      <td>39.880415</td>\n",
       "      <td>0.026703</td>\n",
       "      <td>...</td>\n",
       "      <td>39.880415</td>\n",
       "      <td>0.026703</td>\n",
       "      <td>1614.0</td>\n",
       "      <td>39.880415</td>\n",
       "      <td>0.026703</td>\n",
       "      <td>1614.0</td>\n",
       "      <td>39.880415</td>\n",
       "      <td>0.026703</td>\n",
       "      <td>1614.0</td>\n",
       "      <td>39.880415</td>\n",
       "    </tr>\n",
       "    <tr>\n",
       "      <th>1</th>\n",
       "      <td>0.026912</td>\n",
       "      <td>1604</td>\n",
       "      <td>39.793883</td>\n",
       "      <td>0.026703</td>\n",
       "      <td>1614.0</td>\n",
       "      <td>39.880415</td>\n",
       "      <td>0.026703</td>\n",
       "      <td>1614.0</td>\n",
       "      <td>39.880415</td>\n",
       "      <td>0.026703</td>\n",
       "      <td>...</td>\n",
       "      <td>39.880415</td>\n",
       "      <td>0.026703</td>\n",
       "      <td>1614.0</td>\n",
       "      <td>39.880415</td>\n",
       "      <td>0.026703</td>\n",
       "      <td>1614.0</td>\n",
       "      <td>39.880415</td>\n",
       "      <td>0.026703</td>\n",
       "      <td>1614.0</td>\n",
       "      <td>39.880415</td>\n",
       "    </tr>\n",
       "    <tr>\n",
       "      <th>2</th>\n",
       "      <td>0.026940</td>\n",
       "      <td>1604</td>\n",
       "      <td>39.721471</td>\n",
       "      <td>0.026912</td>\n",
       "      <td>1604.0</td>\n",
       "      <td>39.793883</td>\n",
       "      <td>0.026703</td>\n",
       "      <td>1614.0</td>\n",
       "      <td>39.880415</td>\n",
       "      <td>0.026703</td>\n",
       "      <td>...</td>\n",
       "      <td>39.880415</td>\n",
       "      <td>0.026703</td>\n",
       "      <td>1614.0</td>\n",
       "      <td>39.880415</td>\n",
       "      <td>0.026703</td>\n",
       "      <td>1614.0</td>\n",
       "      <td>39.880415</td>\n",
       "      <td>0.026703</td>\n",
       "      <td>1614.0</td>\n",
       "      <td>39.880415</td>\n",
       "    </tr>\n",
       "    <tr>\n",
       "      <th>3</th>\n",
       "      <td>0.026921</td>\n",
       "      <td>1614</td>\n",
       "      <td>39.868023</td>\n",
       "      <td>0.026940</td>\n",
       "      <td>1604.0</td>\n",
       "      <td>39.721471</td>\n",
       "      <td>0.026912</td>\n",
       "      <td>1604.0</td>\n",
       "      <td>39.793883</td>\n",
       "      <td>0.026703</td>\n",
       "      <td>...</td>\n",
       "      <td>39.880415</td>\n",
       "      <td>0.026703</td>\n",
       "      <td>1614.0</td>\n",
       "      <td>39.880415</td>\n",
       "      <td>0.026703</td>\n",
       "      <td>1614.0</td>\n",
       "      <td>39.880415</td>\n",
       "      <td>0.026703</td>\n",
       "      <td>1614.0</td>\n",
       "      <td>39.880415</td>\n",
       "    </tr>\n",
       "    <tr>\n",
       "      <th>4</th>\n",
       "      <td>0.026924</td>\n",
       "      <td>1612</td>\n",
       "      <td>39.847572</td>\n",
       "      <td>0.026921</td>\n",
       "      <td>1614.0</td>\n",
       "      <td>39.868023</td>\n",
       "      <td>0.026940</td>\n",
       "      <td>1604.0</td>\n",
       "      <td>39.721471</td>\n",
       "      <td>0.026912</td>\n",
       "      <td>...</td>\n",
       "      <td>39.880415</td>\n",
       "      <td>0.026703</td>\n",
       "      <td>1614.0</td>\n",
       "      <td>39.880415</td>\n",
       "      <td>0.026703</td>\n",
       "      <td>1614.0</td>\n",
       "      <td>39.880415</td>\n",
       "      <td>0.026703</td>\n",
       "      <td>1614.0</td>\n",
       "      <td>39.880415</td>\n",
       "    </tr>\n",
       "  </tbody>\n",
       "</table>\n",
       "<p>5 rows × 54 columns</p>\n",
       "</div>"
      ],
      "text/plain": [
       "    maxVals  numLandmarks  areaUnderCurve         3       4          5  \\\n",
       "0  0.026703          1614       39.880415  0.026703  1614.0  39.880415   \n",
       "1  0.026912          1604       39.793883  0.026703  1614.0  39.880415   \n",
       "2  0.026940          1604       39.721471  0.026912  1604.0  39.793883   \n",
       "3  0.026921          1614       39.868023  0.026940  1604.0  39.721471   \n",
       "4  0.026924          1612       39.847572  0.026921  1614.0  39.868023   \n",
       "\n",
       "          6       7          8         9    ...             44        45  \\\n",
       "0  0.026703  1614.0  39.880415  0.026703    ...      39.880415  0.026703   \n",
       "1  0.026703  1614.0  39.880415  0.026703    ...      39.880415  0.026703   \n",
       "2  0.026703  1614.0  39.880415  0.026703    ...      39.880415  0.026703   \n",
       "3  0.026912  1604.0  39.793883  0.026703    ...      39.880415  0.026703   \n",
       "4  0.026940  1604.0  39.721471  0.026912    ...      39.880415  0.026703   \n",
       "\n",
       "       46         47        48      49         50        51      52         53  \n",
       "0  1614.0  39.880415  0.026703  1614.0  39.880415  0.026703  1614.0  39.880415  \n",
       "1  1614.0  39.880415  0.026703  1614.0  39.880415  0.026703  1614.0  39.880415  \n",
       "2  1614.0  39.880415  0.026703  1614.0  39.880415  0.026703  1614.0  39.880415  \n",
       "3  1614.0  39.880415  0.026703  1614.0  39.880415  0.026703  1614.0  39.880415  \n",
       "4  1614.0  39.880415  0.026703  1614.0  39.880415  0.026703  1614.0  39.880415  \n",
       "\n",
       "[5 rows x 54 columns]"
      ]
     },
     "execution_count": 117,
     "metadata": {},
     "output_type": "execute_result"
    }
   ],
   "source": [
    "eigenvectors = np.copy(df_maxEVecs.values)\n",
    "max_vals = []\n",
    "max_vals = eigenvectors[:,0]\n",
    "num_landmarks = count_nonzero(eigenvectors,axis=1)\n",
    "area_under_curve = []\n",
    "\n",
    "for i in range(m): \n",
    "    temp_sum = 0;\n",
    "    for j in range(n):\n",
    "        temp_sum += eigenvectors[i,j]\n",
    "    area_under_curve.append(temp_sum)\n",
    "    \n",
    "temp_dict = {'maxVals':max_vals,\n",
    "             'numLandmarks':num_landmarks,\n",
    "             'areaUnderCurve':area_under_curve}\n",
    "\n",
    "df_features = pd.DataFrame(data = temp_dict)\n",
    "print(df_features.shape)\n",
    "df_features.head()\n",
    "\n",
    "num_scans_used = 18\n",
    "for i in range(1,num_scans_used):\n",
    "#     print('i = ',i)\n",
    "    df_features[i*3] = df_features['maxVals'].iloc[:-i]\n",
    "    df_features[i*3] = df_features[i*3].shift(i)\n",
    "    df_features.loc[0:i,i*3] = df_features['maxVals'].iloc[0]\n",
    "\n",
    "    df_features[i*3+1] = df_features['numLandmarks'].iloc[:-i]\n",
    "    df_features[i*3+1] = df_features[i*3+1].shift(i)\n",
    "    df_features.loc[0:i,i*3+1] = df_features['numLandmarks'].iloc[0]\n",
    "\n",
    "    df_features[i*3+2] = df_features['areaUnderCurve'].iloc[:-i]\n",
    "    df_features[i*3+2] = df_features[i*3+2].shift(i)\n",
    "    df_features.loc[0:i,i*3+2] = df_features['areaUnderCurve'].iloc[0]\n",
    "\n",
    "print(df_features.shape)\n",
    "df_features.head()\n"
   ]
  },
  {
   "cell_type": "code",
   "execution_count": 118,
   "metadata": {},
   "outputs": [
    {
     "name": "stdout",
     "output_type": "stream",
     "text": [
      "Good RO:  4563\n",
      "Bad RO: 1392 \n",
      "\n",
      "Good vs Bad RO in training:  3650 good, 1114 bad\n",
      "Good vs Bad RO in testing: 913 good, 278 bad \n",
      "\n",
      "Good/Bad ratio in training:  3.276481149012567\n",
      "Good/Bad ratio in testing: 3.2841726618705036 \n",
      "\n",
      "Bad RO % in training:  0.23383711167086482\n",
      "Bad RO % in testing: 0.23341729638958858 \n",
      "\n",
      "Size of training data is: \n",
      " (4764, 54)\n",
      "Size of test data is: \n",
      " (1191, 54)\n"
     ]
    }
   ],
   "source": [
    "from sklearn.model_selection import StratifiedShuffleSplit\n",
    "\n",
    "maxEVecs = np.array(df_maxEVecs.values)\n",
    "y_labels = ravel(labels)\n",
    "\n",
    "\n",
    "print('Good RO: ',np.count_nonzero(y_labels==-1))\n",
    "print('Bad RO:',np.count_nonzero(y_labels==1),'\\n')\n",
    "\n",
    "X_total = np.copy(df_features.values)\n",
    "y_total = np.copy(y_labels)\n",
    "\n",
    "sss = StratifiedShuffleSplit(n_splits=1, test_size = 0.2, random_state=0)\n",
    "\n",
    "for train_index, test_index in sss.split(X_total, y_total):\n",
    "    X_train, X_test = X_total[train_index], X_total[test_index]\n",
    "    y_train, y_test = y_total[train_index], y_total[test_index]\n",
    "    eig_train, eig_test = maxEVecs[train_index], maxEVecs[test_index]\n",
    "\n",
    "print('Good vs Bad RO in training: ',np.count_nonzero(y_train==-1),'good,',np.count_nonzero(y_train==1),'bad')\n",
    "print('Good vs Bad RO in testing:',np.count_nonzero(y_test==-1),'good,',np.count_nonzero(y_test==1),'bad \\n')\n",
    "\n",
    "print('Good/Bad ratio in training: ',np.count_nonzero(y_train==-1)/np.count_nonzero(y_train==1))\n",
    "print('Good/Bad ratio in testing:',np.count_nonzero(y_test==-1)/np.count_nonzero(y_test==1),'\\n')\n",
    "\n",
    "# print('Bad RO % in training: ',np.count_nonzero(y_train==1)/np.count_nonzero(labels==1))\n",
    "# print('Bad RO % in testing:',np.count_nonzero(y_test==1)/np.count_nonzero(labels==1),'\\n')\n",
    "\n",
    "print('Bad RO % in training: ',np.count_nonzero(y_train==1)/len(y_train))\n",
    "print('Bad RO % in testing:',np.count_nonzero(y_test==1)/len(y_test),'\\n')\n",
    "\n",
    "[m_train,n_train] = shape(X_train)\n",
    "[m_test,n_test] = shape(X_test)\n",
    "print(\"Size of training data is: \\n\",shape(X_train))\n",
    "print(\"Size of test data is: \\n\",shape(X_test))"
   ]
  },
  {
   "cell_type": "code",
   "execution_count": 119,
   "metadata": {},
   "outputs": [],
   "source": [
    "from sklearn import preprocessing\n",
    "\n",
    "scaler = preprocessing.StandardScaler().fit(X_train)\n",
    "# scaler = preprocessing.MaxAbsScaler().fit(X_train)\n",
    "X_scaled = preprocessing.scale(X_train)\n",
    "# print(\"Mean: \",X_scaled.mean(axis=0))\n",
    "# print(\"Variance: \",X_scaled.std(axis=0))\n",
    "X_train = scaler.transform(X_train)\n",
    "X_test = scaler.transform(X_test)"
   ]
  },
  {
   "cell_type": "code",
   "execution_count": 120,
   "metadata": {},
   "outputs": [
    {
     "name": "stdout",
     "output_type": "stream",
     "text": [
      "SVC(C=1.0, cache_size=200, class_weight='balanced', coef0=0.0,\n",
      "  decision_function_shape='ovr', degree=3, gamma=0.001, kernel='linear',\n",
      "  max_iter=-1, probability=False, random_state=0, shrinking=True,\n",
      "  tol=0.001, verbose=False)\n",
      "\n",
      "Train metrics:\n",
      "Accuracy: 0.6750629722921915\n",
      "Precision: 0.39972273567467653\n",
      "Recall: 0.7764811490125674\n",
      "F1 score: 0.5277608297742525\n",
      "Average precision: 0.4638245176778323\n",
      "\n",
      "Test metrics:\n",
      "Accuracy: 0.6456759026028548\n",
      "Precision: 0.37050359712230213\n",
      "Recall: 0.7410071942446043\n",
      "F1 score: 0.49400479616306947\n",
      "Average precision: 0.4476403957424369\n",
      "\n",
      "Cross validation:\n",
      " [0.46059335 0.45966236 0.42654763 0.44543917 0.42589552]\n",
      "Mean average precision score: 0.44362760596802164\n",
      "Std dev average precision score: 0.01519462932162791\n"
     ]
    }
   ],
   "source": [
    "from sklearn.svm import SVC\n",
    "# from sklearn.ensemble import RandomForestClassifier\n",
    "from sklearn.metrics import f1_score,precision_score,recall_score\n",
    "from sklearn.metrics import average_precision_score\n",
    "\n",
    "# SVM Classifier model\n",
    "# clf = RandomForestClassifier(n_estimators=30,class_weight='balanced')\n",
    "# clf = SVC(kernel=\"rbf\",class_weight='balanced', C=float(20),gamma=0.1,random_state=0)\n",
    "clf = SVC(kernel=\"linear\",class_weight='balanced', C=float(1),gamma=0.001,random_state=0)\n",
    "print(clf.fit(X_train, y_train))\n",
    "\n",
    "y_predictions_X_train = clf.predict(X_train)\n",
    "dec_func_X_train = clf.decision_function(X_train)\n",
    "\n",
    "print('\\nTrain metrics:')\n",
    "print('Accuracy:',clf.score(X_train,y_train))\n",
    "print('Precision:',precision_score(y_train,y_predictions_X_train))\n",
    "print('Recall:',recall_score(y_train,y_predictions_X_train))\n",
    "print('F1 score:',f1_score(y_train,y_predictions_X_train))\n",
    "print('Average precision:',average_precision_score(y_train,dec_func_X_train))\n",
    "\n",
    "y_predictions_X_test = clf.predict(X_test)\n",
    "dec_func_X_test = clf.decision_function(X_test)\n",
    "\n",
    "print('\\nTest metrics:')\n",
    "print('Accuracy:',clf.score(X_test,y_test))\n",
    "print('Precision:',precision_score(y_test,y_predictions_X_test))\n",
    "print('Recall:',recall_score(y_test,y_predictions_X_test))\n",
    "print('F1 score:',f1_score(y_test,y_predictions_X_test))\n",
    "print('Average precision:',average_precision_score(y_test,dec_func_X_test))\n",
    "\n",
    "from sklearn import metrics\n",
    "from sklearn.model_selection import cross_val_score\n",
    "tmp_score = 'average_precision'\n",
    "scores = cross_val_score(\n",
    "    clf, X_train, y_train, cv=5, scoring=tmp_score)\n",
    "print('\\nCross validation:\\n',scores)\n",
    "print('Mean average precision score:',scores.mean())\n",
    "print('Std dev average precision score:',scores.std())"
   ]
  },
  {
   "cell_type": "code",
   "execution_count": 85,
   "metadata": {},
   "outputs": [
    {
     "name": "stdout",
     "output_type": "stream",
     "text": [
      "[0.40050154 0.33488424 0.29734419 0.35995621 0.32889992]\n",
      "Mean average precision score: 0.3443172185102223\n",
      "Std dev average precision score: 0.034451110358177314\n"
     ]
    }
   ],
   "source": [
    "from sklearn import metrics\n",
    "from sklearn.model_selection import cross_val_score\n",
    "tmp_score = 'average_precision'\n",
    "scores = cross_val_score(\n",
    "    clf, X_train, y_train, cv=5, scoring=tmp_score)\n",
    "print(scores)\n",
    "print('Mean average precision score:',scores.mean())\n",
    "print('Std dev average precision score:',scores.std())"
   ]
  },
  {
   "cell_type": "code",
   "execution_count": 86,
   "metadata": {},
   "outputs": [
    {
     "name": "stdout",
     "output_type": "stream",
     "text": [
      "Accuracy: 0.7426532325776658\n",
      "Precision: 0.2781818181818182\n",
      "Recall: 0.9291497975708503\n",
      "F1 score: 0.42817164179104483\n"
     ]
    }
   ],
   "source": [
    "y_predictions = clf.predict(X_train)\n",
    "print('Accuracy:',clf.score(X_train,y_train))\n",
    "print('Precision:',precision_score(y_train,y_predictions))\n",
    "print('Recall:',recall_score(y_train,y_predictions))\n",
    "print('F1 score:',f1_score(y_train,y_predictions))\n",
    "# This requires a probability or decision function\n",
    "# print('Average precision:',average_precision_score(y_train,y_predictions))"
   ]
  },
  {
   "cell_type": "code",
   "execution_count": 87,
   "metadata": {},
   "outputs": [
    {
     "name": "stdout",
     "output_type": "stream",
     "text": [
      "Area under PR curve: 0.3517536870165621\n",
      "Average precision score: 0.3536312672819577\n"
     ]
    },
    {
     "data": {
      "image/png": "[encoded data removed]",
      "text/plain": [
       "<Figure size 432x288 with 1 Axes>"
      ]
     },
     "metadata": {},
     "output_type": "display_data"
    }
   ],
   "source": [
    "from sklearn.metrics import precision_recall_curve\n",
    "from sklearn.metrics import auc\n",
    "from sklearn.metrics import average_precision_score\n",
    "clf_probs = SVC(kernel=\"linear\",class_weight='balanced', C=float(0.1),gamma=0.001,random_state=0,probability=True)\n",
    "clf_probs.fit(X_train,y_train)\n",
    "probs = clf_probs.predict_proba(X_train)\n",
    "# keep probabilities for the positive outcome only\n",
    "probs = probs[:, 1]\n",
    "precision, recall, thresholds = precision_recall_curve(y_train, probs)\n",
    "print('Area under PR curve:',auc(recall,precision))\n",
    "print('Average precision score:',average_precision_score(y_train, probs))\n",
    "# plt.plot([0, 1], [0.5, 0.5], linestyle='--')\n",
    "plt.plot(recall, precision, marker='.')\n",
    "plt.xlabel('Recall')\n",
    "plt.ylabel('Precision')\n",
    "plt.show()"
   ]
  },
  {
   "cell_type": "code",
   "execution_count": 50,
   "metadata": {},
   "outputs": [],
   "source": [
    "from sklearn.model_selection import cross_val_predict\n",
    "\n",
    "y_train_pred = cross_val_predict(clf,X_train, y_train, cv=5)"
   ]
  },
  {
   "cell_type": "code",
   "execution_count": 51,
   "metadata": {},
   "outputs": [
    {
     "data": {
      "text/plain": [
       "(0, 500)"
      ]
     },
     "execution_count": 51,
     "metadata": {},
     "output_type": "execute_result"
    },
    {
     "data": {
      "image/png": "[encoded data removed]",
      "text/plain": [
       "<Figure size 2160x576 with 1 Axes>"
      ]
     },
     "metadata": {},
     "output_type": "display_data"
    }
   ],
   "source": [
    "plt.figure(figsize=(30,8))\n",
    "plt.plot(y_predictions,'r*')\n",
    "plt.plot(y_train-0.05,'b*')\n",
    "plt.plot(y_train_pred+0.05,'c*')\n",
    "\n",
    "plt.xlim(0,500)"
   ]
  },
  {
   "cell_type": "code",
   "execution_count": 52,
   "metadata": {},
   "outputs": [],
   "source": [
    "from sklearn.model_selection import cross_val_predict\n",
    "\n",
    "y_train_pred = cross_val_predict(clf,X_train, y_train, cv=5)"
   ]
  },
  {
   "cell_type": "code",
   "execution_count": 53,
   "metadata": {},
   "outputs": [
    {
     "data": {
      "text/plain": [
       "array([[2862,  890],\n",
       "       [  72,  940]])"
      ]
     },
     "execution_count": 53,
     "metadata": {},
     "output_type": "execute_result"
    }
   ],
   "source": [
    "from sklearn.metrics import confusion_matrix\n",
    "confusion_matrix(y_train,y_train_pred)"
   ]
  },
  {
   "cell_type": "code",
   "execution_count": 54,
   "metadata": {
    "scrolled": false
   },
   "outputs": [
    {
     "name": "stdout",
     "output_type": "stream",
     "text": [
      "Precision (% when positive prediction is correct):\n",
      " 0.5136612021857924 \n",
      "\n",
      "Recall (% of bad RO instances detected):\n",
      " 0.9288537549407114 \n",
      "\n",
      "F1 score: \n",
      " 0.661505981703026\n"
     ]
    }
   ],
   "source": [
    "from sklearn.metrics import precision_score, recall_score\n",
    "print('Precision (% when positive prediction is correct):\\n',precision_score(y_train,y_train_pred),'\\n')\n",
    "print('Recall (% of bad RO instances detected):\\n',recall_score(y_train, y_train_pred),'\\n')\n",
    "print('F1 score: \\n',f1_score(y_train,y_train_pred))"
   ]
  },
  {
   "cell_type": "code",
   "execution_count": 55,
   "metadata": {},
   "outputs": [],
   "source": [
    "from sklearn.model_selection import cross_val_score\n",
    "# y_scores = cross_val_predict(clf, X_train, y_train, cv=5,\n",
    "#                                  method=\"decision_function\")\n",
    "# y_scores = cross_val_predict(clf, X_train, y_train, cv=3)\n",
    "y_scores = clf_probs.predict_proba(X_train)\n",
    "y_scores = y_scores[:, 1]"
   ]
  },
  {
   "cell_type": "code",
   "execution_count": 56,
   "metadata": {},
   "outputs": [
    {
     "data": {
      "image/png": "[encoded data removed]",
      "text/plain": [
       "<Figure size 432x288 with 1 Axes>"
      ]
     },
     "metadata": {},
     "output_type": "display_data"
    },
    {
     "name": "stdout",
     "output_type": "stream",
     "text": [
      "*** If we set a threshold here: ***\n",
      "Precision (% when positive prediction is correct):\n",
      " 0.5475030450669914 \n",
      "\n",
      "Recall (% of bad RO instances detected):\n",
      " 0.8883399209486166 \n",
      "\n"
     ]
    }
   ],
   "source": [
    "from sklearn.metrics import precision_recall_curve\n",
    "precisions, recalls, thresholds = precision_recall_curve(y_train, y_scores)\n",
    "\n",
    "def plot_precision_recall_vs_threshold(precisions, recalls, thresholds):\n",
    "    plt.plot(thresholds, precisions[:-1], \"b--\", label=\"Precision\")\n",
    "    plt.plot(thresholds, recalls[:-1], \"g--\", label=\"Recall\")\n",
    "    plt.xlabel(\"Threshold\")\n",
    "    plt.legend(loc=\"upper left\")\n",
    "#     plt.ylim([0, 1])\n",
    "plot_precision_recall_vs_threshold(precisions, recalls, thresholds)\n",
    "plt.show()\n",
    "\n",
    "# Need to set all bad RO labels from -1 to 0 for this function to work\n",
    "tmp_y_train = np.array(y_train)\n",
    "indices = [i for i, x in enumerate(tmp_y_train) if x == -1]\n",
    "tmp_y_train[indices] = 0\n",
    "\n",
    "y_train_pred_thresholding = (y_scores > 0.25)\n",
    "print('*** If we set a threshold here: ***')\n",
    "print('Precision (% when positive prediction is correct):\\n',\n",
    "      precision_score(tmp_y_train,y_train_pred_thresholding),'\\n')\n",
    "print('Recall (% of bad RO instances detected):\\n',\n",
    "      recall_score(tmp_y_train, y_train_pred_thresholding),'\\n')"
   ]
  },
  {
   "cell_type": "code",
   "execution_count": 57,
   "metadata": {},
   "outputs": [
    {
     "data": {
      "image/png": "[encoded data removed]",
      "text/plain": [
       "<Figure size 432x288 with 1 Axes>"
      ]
     },
     "metadata": {},
     "output_type": "display_data"
    },
    {
     "name": "stdout",
     "output_type": "stream",
     "text": [
      "Area under ROC curve 0.9047572519952469\n"
     ]
    }
   ],
   "source": [
    "from sklearn.metrics import roc_curve\n",
    "from sklearn.metrics import roc_auc_score\n",
    "fpr, tpr, thresholds = roc_curve(y_train, y_scores)\n",
    "\n",
    "def plot_roc_curve(fpr, tpr, label=None):\n",
    "    plt.plot(fpr, tpr, linewidth=2, label=label)\n",
    "    plt.plot([0, 1], [0, 1], 'k--')\n",
    "    plt.axis([0, 1, 0, 1])\n",
    "    plt.xlabel('False Positive Rate')\n",
    "    plt.ylabel('True Positive Rate')\n",
    "plot_roc_curve(fpr, tpr)\n",
    "plt.show()\n",
    "\n",
    "print('Area under ROC curve',roc_auc_score(y_train, y_scores))"
   ]
  },
  {
   "cell_type": "code",
   "execution_count": 21,
   "metadata": {},
   "outputs": [
    {
     "name": "stdout",
     "output_type": "stream",
     "text": [
      "importing  protobuf.logging.pbMonolithicIndexArray_pb2\n",
      "importing  protobuf.classification_score.pbClassificationScore_pb2\n",
      "Finished importing ground truth labels.\n",
      "Size of imported labels is: 5955\n"
     ]
    }
   ],
   "source": [
    "import sys\n",
    "sys.path.append(\"/Users/roberto/code/robust-me-scripts/scripts\")\n",
    "sys.path.append(\"/Users/roberto/code/robust-me-scripts/scripts/config\")\n",
    "sys.path.append(\"/Users/roberto/code/corelibs/src/tools-python\")\n",
    "sys.path.append(\"/Users/roberto/code/corelibs/build/datatypes\")\n",
    "sys.path.append(\"/Users/roberto/code/corelibs/build/datatypes/datatypes_python\")\n",
    "import module\n",
    "\n",
    "from mrg.logging import IndexedMonolithic #MonolithicDecoder\n",
    "# sys.path.append(\"/Users/roberto/code/radar-utilities/build/radarutilities_datatypes_python\")\n",
    "# sys.path.append(\"/Users/roberto/code/radar-utilities/build/radarutilities_datatypes_python/protobuf/\")\n",
    "\n",
    "# for p in sys.path:\n",
    "#     print(p)\n",
    "\n",
    "from protobuf.classification_score import pbClassificationScore_pb2\n",
    "classification_file = \"/Users/roberto/data/odometry-comparisons/\"\\\n",
    "\"rugged_ro/2018-06-21-15-58-58-rural-loop-v4-radar-leopon-trial-sunny-long-range/\"\\\n",
    "\"motion_estimation/ground-truth/labels.monolithic\"\n",
    "\n",
    "mono_decoder = IndexedMonolithic(classification_file) #MonolithicDecoder(classification_file)\n",
    "classification_scores = []\n",
    "classification_timestamps = []\n",
    "\n",
    "for pb, _, _ in mono_decoder:\n",
    "    timestamp = pb.timestamp\n",
    "    classification_score = pb.score\n",
    "    classification_scores.append(classification_score)\n",
    "    classification_timestamps.append(timestamp)\n",
    "print(\"Finished importing ground truth labels.\")\n",
    "print(\"Size of imported labels is:\",len(classification_scores))\n",
    "\n",
    "# classification_scores, timestamps  = map(list, zip(*[pb.score, pb.timestamp for pb, _, _ in mono_decoder]))\n",
    "# classification_timestamps = [pb.timestamp for pb, _, _ in mono_decoder]"
   ]
  },
  {
   "cell_type": "code",
   "execution_count": 22,
   "metadata": {},
   "outputs": [
    {
     "data": {
      "image/png": "[encoded data removed]",
      "text/plain": [
       "<Figure size 432x288 with 1 Axes>"
      ]
     },
     "metadata": {},
     "output_type": "display_data"
    }
   ],
   "source": [
    "import matplotlib.pyplot as plt\n",
    "plt.plot(classification_scores)\n",
    "plt.show()"
   ]
  },
  {
   "cell_type": "code",
   "execution_count": 23,
   "metadata": {},
   "outputs": [],
   "source": [
    "X_experiment = np.copy(df_features.values)\n",
    "X_experiment = preprocessing.scale(X_experiment)\n",
    "predictions = clf.predict(X_experiment)\n",
    "for i in range(len(predictions)):\n",
    "    if predictions[i] == -1:\n",
    "        predictions[i] = 0"
   ]
  },
  {
   "cell_type": "code",
   "execution_count": 29,
   "metadata": {},
   "outputs": [
    {
     "name": "stdout",
     "output_type": "stream",
     "text": [
      "Ground truth failures:  1265\n",
      "Predicted failures:  2032\n",
      "True positives:  1074\n",
      "False positives:  958\n",
      "True negatives:  3732\n",
      "False negatives:  191\n",
      "Confusion matrix:\n",
      " 3732   958 \n",
      " 191   3732\n",
      "Precision: 0.5285433070866141\n",
      "Recall: 0.8490118577075099\n",
      "F1 score: 0.651501364877161\n",
      "Average precision: 0.48081342251798176\n"
     ]
    },
    {
     "data": {
      "image/png": "[encoded data removed]",
      "text/plain": [
       "<Figure size 2160x576 with 1 Axes>"
      ]
     },
     "metadata": {},
     "output_type": "display_data"
    }
   ],
   "source": [
    "plt.figure(figsize=(30,8))\n",
    "plt.plot(classification_scores,'g.',markersize=5)\n",
    "plt.plot([x+0.05 for x in predictions],'r.',markersize=5)\n",
    "plt.xlim(3000,3500)\n",
    "plt.title(\"SVM vs INS Baseline Predictions\",fontsize=32,y=1.03)\n",
    "\n",
    "\n",
    "TP = 0\n",
    "FP = 0\n",
    "TN = 0\n",
    "FN = 0\n",
    "for i in range(len(classification_scores)):\n",
    "    if(classification_scores[i] == 1 and predictions[i] == 1):\n",
    "        TP += 1\n",
    "    elif(classification_scores[i] == 0 and predictions[i] == 1):\n",
    "        FP += 1\n",
    "    elif(classification_scores[i] == 0 and predictions[i] == 0):\n",
    "        TN += 1\n",
    "    else:\n",
    "        FN += 1\n",
    "print(\"Ground truth failures: \", count_nonzero(classification_scores))\n",
    "print(\"Predicted failures: \", count_nonzero(predictions))\n",
    "print(\"True positives: \", TP)\n",
    "print(\"False positives: \", FP)\n",
    "print(\"True negatives: \", TN)\n",
    "print(\"False negatives: \", FN)\n",
    "print(\"Confusion matrix:\\n\", TN,\" \",FP,\"\\n\",FN,\" \",TN)\n",
    "precision = TP/(TP+FP)\n",
    "recall = TP/(TP+FN)\n",
    "print(\"Precision:\",precision)\n",
    "print(\"Recall:\",recall)\n",
    "print(\"F1 score:\",2*(precision*recall)/(precision+recall))\n",
    "print(\"Average precision:\",average_precision_score(classification_scores,predictions))"
   ]
  },
  {
   "cell_type": "code",
   "execution_count": 30,
   "metadata": {},
   "outputs": [
    {
     "name": "stdout",
     "output_type": "stream",
     "text": [
      "Ground truth failures:  1378\n",
      "Predicted failures:  2032\n",
      "True positives:  1188\n",
      "False positives:  844\n",
      "True negatives:  3733\n",
      "False negatives:  190\n",
      "Confusion matrix:\n",
      " 3733   844 \n",
      " 190   3733\n",
      "Precision: 0.5846456692913385\n",
      "Recall: 0.8621190130624092\n",
      "F1 score: 0.696774193548387\n",
      "Average precision: 0.5359401087776545\n"
     ]
    },
    {
     "data": {
      "image/png": "[encoded data removed]",
      "text/plain": [
       "<Figure size 2160x576 with 1 Axes>"
      ]
     },
     "metadata": {},
     "output_type": "display_data"
    }
   ],
   "source": [
    "import scipy.signal\n",
    "tmp_gt = np.array(classification_scores)\n",
    "tmp_gt = scipy.signal.medfilt(tmp_gt,3)\n",
    "\n",
    "plt.figure(figsize=(30,8))\n",
    "plt.plot(classification_scores,'g.',markersize=5)\n",
    "plt.plot([x-0.05 for x in tmp_gt],'b.',markersize=5)\n",
    "plt.plot([x+0.05 for x in predictions],'r.',markersize=5)\n",
    "# plt.xlim(1000,4500)\n",
    "plt.title(\"SVM vs INS Baseline Predictions\",fontsize=32,y=1.03)\n",
    "line1, = plt.plot([],[],color='green',label='INS')\n",
    "line2, = plt.plot([],[],color='blue',label='Filtered INS')\n",
    "line3, = plt.plot([],[],color='red',label='SVM')\n",
    "plt.legend(handles=[line1,line2,line3],fontsize=24,loc='right')\n",
    "TP = 0\n",
    "FP = 0\n",
    "TN = 0\n",
    "FN = 0\n",
    "for i in range(len(classification_scores)):\n",
    "    if(tmp_gt[i] == 1 and predictions[i] == 1):\n",
    "        TP += 1\n",
    "    elif(tmp_gt[i] == 0 and predictions[i] == 1):\n",
    "        FP += 1\n",
    "    elif(tmp_gt[i] == 0 and predictions[i] == 0):\n",
    "        TN += 1\n",
    "    else:\n",
    "        FN += 1\n",
    "print(\"Ground truth failures: \", count_nonzero(tmp_gt))\n",
    "print(\"Predicted failures: \", count_nonzero(predictions))\n",
    "print(\"True positives: \", TP)\n",
    "print(\"False positives: \", FP)\n",
    "print(\"True negatives: \", TN)\n",
    "print(\"False negatives: \", FN)\n",
    "print(\"Confusion matrix:\\n\", TN,\" \",FP,\"\\n\",FN,\" \",TN)\n",
    "precision = TP/(TP+FP)\n",
    "recall = TP/(TP+FN)\n",
    "print(\"Precision:\",precision)\n",
    "print(\"Recall:\",recall)\n",
    "print(\"F1 score:\",2*(precision*recall)/(precision+recall))\n",
    "print(\"Average precision:\",average_precision_score(tmp_gt,predictions))"
   ]
  },
  {
   "cell_type": "code",
   "execution_count": 27,
   "metadata": {},
   "outputs": [],
   "source": [
    "X_experiment = np.copy(df_features.values)\n",
    "X_experiment = preprocessing.scale(X_experiment)\n",
    "predictions = clf.predict(X_experiment)\n",
    "for i in range(len(predictions)):\n",
    "    if predictions[i] == -1:\n",
    "        predictions[i] = 0\n",
    "y_train_pred_thresholding = (predictions > -0.5)"
   ]
  },
  {
   "cell_type": "code",
   "execution_count": 28,
   "metadata": {},
   "outputs": [
    {
     "name": "stdout",
     "output_type": "stream",
     "text": [
      "Area under PR curve: 0.7016348288282073\n",
      "Average precision score: 0.7018916154934504\n"
     ]
    },
    {
     "data": {
      "image/png": "[encoded data removed]",
      "text/plain": [
       "<Figure size 432x288 with 1 Axes>"
      ]
     },
     "metadata": {},
     "output_type": "display_data"
    }
   ],
   "source": [
    "from sklearn.metrics import precision_recall_curve\n",
    "from sklearn.metrics import auc\n",
    "clf_probs = SVC(kernel=\"linear\",class_weight='balanced', C=float(1),gamma=0.001,random_state=0,probability=True)\n",
    "clf_probs.fit(X_experiment,tmp_gt)\n",
    "probs = clf_probs.predict_proba(X_experiment)\n",
    "# keep probabilities for the positive outcome only\n",
    "probs = probs[:, 1]\n",
    "precision, recall, thresholds = precision_recall_curve(tmp_gt, probs)\n",
    "print('Area under PR curve:',auc(recall,precision))\n",
    "print('Average precision score:',average_precision_score(tmp_gt, probs))\n",
    "# plt.plot([0, 1], [0.5, 0.5], linestyle='--')\n",
    "plt.plot(recall, precision, marker='.')\n",
    "plt.xlabel('Recall')\n",
    "plt.ylabel('Precision')\n",
    "plt.show()"
   ]
  },
  {
   "cell_type": "code",
   "execution_count": null,
   "metadata": {},
   "outputs": [],
   "source": []
  }
 ],
 "metadata": {
  "kernelspec": {
   "display_name": "Python 3",
   "language": "python",
   "name": "python3"
  },
  "language_info": {
   "codemirror_mode": {
    "name": "ipython",
    "version": 3
   },
   "file_extension": ".py",
   "mimetype": "text/x-python",
   "name": "python",
   "nbconvert_exporter": "python",
   "pygments_lexer": "ipython3",
   "version": "3.6.6"
  }
 },
 "nbformat": 4,
 "nbformat_minor": 2
}
