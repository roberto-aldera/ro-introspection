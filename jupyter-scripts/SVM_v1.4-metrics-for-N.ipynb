{
 "cells": [
  {
   "cell_type": "code",
   "execution_count": 29,
   "metadata": {},
   "outputs": [],
   "source": [
    "# To support both python 2 and python 3\n",
    "from __future__ import division, print_function, unicode_literals\n",
    "\n",
    "# Common imports\n",
    "import numpy as np\n",
    "import pandas as pd\n",
    "import os\n",
    "from numpy import *\n",
    "\n",
    "# to make this notebook's output stable across runs\n",
    "np.random.seed(42)\n",
    "\n",
    "# To plot pretty figures\n",
    "%matplotlib inline\n",
    "import matplotlib\n",
    "import matplotlib.pyplot as plt\n",
    "plt.rcParams['axes.titlepad'] = 20\n",
    "plt.rcParams['axes.grid'] = True\n",
    "plt.rcParams.update({'font.size': 28})\n",
    "plt.rcParams['text.usetex'] = True\n",
    "plt.rc(\"text\", usetex=True)\n",
    "plt.rc(\"font\", family='serif')\n"
   ]
  },
  {
   "cell_type": "code",
   "execution_count": 5,
   "metadata": {},
   "outputs": [
    {
     "name": "stdout",
     "output_type": "stream",
     "text": [
      "Reading from: /Users/roberto/data/odometry-comparisons/rugged_ro/2018-06-21-15-58-58-rural-loop-v4-radar-leopon-trial-sunny-long-range/motion_estimation/standard-ro/2019-03-18-15-00-42-velCorrectorOn/tmp_combined_data.csv\n",
      "Shape of max eigenvecs is:\n",
      " (5955, 2399)\n",
      "Shape of labels is:\n",
      " (5955, 1)\n",
      "Shape of data is:\n",
      " (5955, 2400)\n"
     ]
    }
   ],
   "source": [
    "from sklearn.svm import SVC\n",
    "\n",
    "# filename = '/Users/roberto/data/RO-logging/2019-02-06-11-52-52/tmp_combined_data.csv';\n",
    "# filename = '/Users/roberto/data/RO-logging/datasets/ro-eigenvecs/maxEVecs-ro-dataset.csv';\n",
    "dateAndTime = \"2019-03-18-15-00-42-velCorrectorOn/\";\n",
    "filename = \"/Users/roberto/data/odometry-comparisons/rugged_ro/\"\\\n",
    "\"2018-06-21-15-58-58-rural-loop-v4-radar-leopon-trial-sunny-long-range/\"\\\n",
    "\"motion_estimation/standard-ro/\"+dateAndTime+'tmp_combined_data.csv';\n",
    "\n",
    "print('Reading from: ' + filename)\n",
    "df_combined_data = pd.read_csv(filename, names=range(2400))\n",
    "df_maxEVecs = df_combined_data.iloc[:,1:] #pd.read_csv(filename, names=range(2400))\n",
    "\n",
    "df_labels = df_combined_data.iloc[:,0:1]\n",
    "labels = np.copy(df_labels.values)\n",
    "labels = labels.T\n",
    "\n",
    "[m,n] = shape(df_maxEVecs)\n",
    "\n",
    "print(\"Shape of max eigenvecs is:\\n\",shape(df_maxEVecs))\n",
    "print(\"Shape of labels is:\\n\",shape(df_labels))\n",
    "print(\"Shape of data is:\\n\",shape(df_combined_data))"
   ]
  },
  {
   "cell_type": "code",
   "execution_count": 6,
   "metadata": {},
   "outputs": [
    {
     "name": "stdout",
     "output_type": "stream",
     "text": [
      "1265\n"
     ]
    },
    {
     "data": {
      "image/png": "[encoded data removed]",
      "text/plain": [
       "<Figure size 432x288 with 1 Axes>"
      ]
     },
     "metadata": {},
     "output_type": "display_data"
    }
   ],
   "source": [
    "df_labels.head()\n",
    "plt.plot(df_labels)\n",
    "print(np.count_nonzero(df_labels+1))"
   ]
  },
  {
   "cell_type": "code",
   "execution_count": 7,
   "metadata": {},
   "outputs": [
    {
     "data": {
      "text/html": [
       "<div>\n",
       "<style scoped>\n",
       "    .dataframe tbody tr th:only-of-type {\n",
       "        vertical-align: middle;\n",
       "    }\n",
       "\n",
       "    .dataframe tbody tr th {\n",
       "        vertical-align: top;\n",
       "    }\n",
       "\n",
       "    .dataframe thead th {\n",
       "        text-align: right;\n",
       "    }\n",
       "</style>\n",
       "<table border=\"1\" class=\"dataframe\">\n",
       "  <thead>\n",
       "    <tr style=\"text-align: right;\">\n",
       "      <th></th>\n",
       "      <th>1</th>\n",
       "      <th>2</th>\n",
       "      <th>3</th>\n",
       "      <th>4</th>\n",
       "      <th>5</th>\n",
       "      <th>6</th>\n",
       "      <th>7</th>\n",
       "      <th>8</th>\n",
       "      <th>9</th>\n",
       "      <th>10</th>\n",
       "      <th>...</th>\n",
       "      <th>2390</th>\n",
       "      <th>2391</th>\n",
       "      <th>2392</th>\n",
       "      <th>2393</th>\n",
       "      <th>2394</th>\n",
       "      <th>2395</th>\n",
       "      <th>2396</th>\n",
       "      <th>2397</th>\n",
       "      <th>2398</th>\n",
       "      <th>2399</th>\n",
       "    </tr>\n",
       "  </thead>\n",
       "  <tbody>\n",
       "    <tr>\n",
       "      <th>0</th>\n",
       "      <td>0.026703</td>\n",
       "      <td>0.026701</td>\n",
       "      <td>0.026697</td>\n",
       "      <td>0.026691</td>\n",
       "      <td>0.026687</td>\n",
       "      <td>0.026681</td>\n",
       "      <td>0.026679</td>\n",
       "      <td>0.026677</td>\n",
       "      <td>0.026674</td>\n",
       "      <td>0.026669</td>\n",
       "      <td>...</td>\n",
       "      <td>0.0</td>\n",
       "      <td>0.0</td>\n",
       "      <td>0.0</td>\n",
       "      <td>0.0</td>\n",
       "      <td>0.0</td>\n",
       "      <td>0.0</td>\n",
       "      <td>0.0</td>\n",
       "      <td>0.0</td>\n",
       "      <td>0.0</td>\n",
       "      <td>0.0</td>\n",
       "    </tr>\n",
       "    <tr>\n",
       "      <th>1</th>\n",
       "      <td>0.026910</td>\n",
       "      <td>0.026902</td>\n",
       "      <td>0.026901</td>\n",
       "      <td>0.026898</td>\n",
       "      <td>0.026897</td>\n",
       "      <td>0.026897</td>\n",
       "      <td>0.026896</td>\n",
       "      <td>0.026896</td>\n",
       "      <td>0.026894</td>\n",
       "      <td>0.026894</td>\n",
       "      <td>...</td>\n",
       "      <td>0.0</td>\n",
       "      <td>0.0</td>\n",
       "      <td>0.0</td>\n",
       "      <td>0.0</td>\n",
       "      <td>0.0</td>\n",
       "      <td>0.0</td>\n",
       "      <td>0.0</td>\n",
       "      <td>0.0</td>\n",
       "      <td>0.0</td>\n",
       "      <td>0.0</td>\n",
       "    </tr>\n",
       "    <tr>\n",
       "      <th>2</th>\n",
       "      <td>0.026918</td>\n",
       "      <td>0.026916</td>\n",
       "      <td>0.026915</td>\n",
       "      <td>0.026907</td>\n",
       "      <td>0.026903</td>\n",
       "      <td>0.026897</td>\n",
       "      <td>0.026897</td>\n",
       "      <td>0.026892</td>\n",
       "      <td>0.026891</td>\n",
       "      <td>0.026878</td>\n",
       "      <td>...</td>\n",
       "      <td>0.0</td>\n",
       "      <td>0.0</td>\n",
       "      <td>0.0</td>\n",
       "      <td>0.0</td>\n",
       "      <td>0.0</td>\n",
       "      <td>0.0</td>\n",
       "      <td>0.0</td>\n",
       "      <td>0.0</td>\n",
       "      <td>0.0</td>\n",
       "      <td>0.0</td>\n",
       "    </tr>\n",
       "    <tr>\n",
       "      <th>3</th>\n",
       "      <td>0.026909</td>\n",
       "      <td>0.026903</td>\n",
       "      <td>0.026895</td>\n",
       "      <td>0.026891</td>\n",
       "      <td>0.026891</td>\n",
       "      <td>0.026887</td>\n",
       "      <td>0.026882</td>\n",
       "      <td>0.026847</td>\n",
       "      <td>0.026847</td>\n",
       "      <td>0.026846</td>\n",
       "      <td>...</td>\n",
       "      <td>0.0</td>\n",
       "      <td>0.0</td>\n",
       "      <td>0.0</td>\n",
       "      <td>0.0</td>\n",
       "      <td>0.0</td>\n",
       "      <td>0.0</td>\n",
       "      <td>0.0</td>\n",
       "      <td>0.0</td>\n",
       "      <td>0.0</td>\n",
       "      <td>0.0</td>\n",
       "    </tr>\n",
       "    <tr>\n",
       "      <th>4</th>\n",
       "      <td>0.026921</td>\n",
       "      <td>0.026920</td>\n",
       "      <td>0.026919</td>\n",
       "      <td>0.026918</td>\n",
       "      <td>0.026880</td>\n",
       "      <td>0.026876</td>\n",
       "      <td>0.026875</td>\n",
       "      <td>0.026872</td>\n",
       "      <td>0.026871</td>\n",
       "      <td>0.026855</td>\n",
       "      <td>...</td>\n",
       "      <td>0.0</td>\n",
       "      <td>0.0</td>\n",
       "      <td>0.0</td>\n",
       "      <td>0.0</td>\n",
       "      <td>0.0</td>\n",
       "      <td>0.0</td>\n",
       "      <td>0.0</td>\n",
       "      <td>0.0</td>\n",
       "      <td>0.0</td>\n",
       "      <td>0.0</td>\n",
       "    </tr>\n",
       "  </tbody>\n",
       "</table>\n",
       "<p>5 rows × 2399 columns</p>\n",
       "</div>"
      ],
      "text/plain": [
       "       1         2         3         4         5         6         7     \\\n",
       "0  0.026703  0.026701  0.026697  0.026691  0.026687  0.026681  0.026679   \n",
       "1  0.026910  0.026902  0.026901  0.026898  0.026897  0.026897  0.026896   \n",
       "2  0.026918  0.026916  0.026915  0.026907  0.026903  0.026897  0.026897   \n",
       "3  0.026909  0.026903  0.026895  0.026891  0.026891  0.026887  0.026882   \n",
       "4  0.026921  0.026920  0.026919  0.026918  0.026880  0.026876  0.026875   \n",
       "\n",
       "       8         9         10    ...   2390  2391  2392  2393  2394  2395  \\\n",
       "0  0.026677  0.026674  0.026669  ...    0.0   0.0   0.0   0.0   0.0   0.0   \n",
       "1  0.026896  0.026894  0.026894  ...    0.0   0.0   0.0   0.0   0.0   0.0   \n",
       "2  0.026892  0.026891  0.026878  ...    0.0   0.0   0.0   0.0   0.0   0.0   \n",
       "3  0.026847  0.026847  0.026846  ...    0.0   0.0   0.0   0.0   0.0   0.0   \n",
       "4  0.026872  0.026871  0.026855  ...    0.0   0.0   0.0   0.0   0.0   0.0   \n",
       "\n",
       "   2396  2397  2398  2399  \n",
       "0   0.0   0.0   0.0   0.0  \n",
       "1   0.0   0.0   0.0   0.0  \n",
       "2   0.0   0.0   0.0   0.0  \n",
       "3   0.0   0.0   0.0   0.0  \n",
       "4   0.0   0.0   0.0   0.0  \n",
       "\n",
       "[5 rows x 2399 columns]"
      ]
     },
     "execution_count": 7,
     "metadata": {},
     "output_type": "execute_result"
    }
   ],
   "source": [
    "# where_are_NaNs = isnan(df_maxEVecs)\n",
    "# df_maxEVecs[where_are_NaNs] = 0.0\n",
    "df_maxEVecs.head()"
   ]
  },
  {
   "cell_type": "code",
   "execution_count": 8,
   "metadata": {},
   "outputs": [
    {
     "name": "stdout",
     "output_type": "stream",
     "text": [
      "(5955, 3)\n"
     ]
    },
    {
     "data": {
      "text/html": [
       "<div>\n",
       "<style scoped>\n",
       "    .dataframe tbody tr th:only-of-type {\n",
       "        vertical-align: middle;\n",
       "    }\n",
       "\n",
       "    .dataframe tbody tr th {\n",
       "        vertical-align: top;\n",
       "    }\n",
       "\n",
       "    .dataframe thead th {\n",
       "        text-align: right;\n",
       "    }\n",
       "</style>\n",
       "<table border=\"1\" class=\"dataframe\">\n",
       "  <thead>\n",
       "    <tr style=\"text-align: right;\">\n",
       "      <th></th>\n",
       "      <th>max_vals</th>\n",
       "      <th>num_landmarks</th>\n",
       "      <th>area_under_curve</th>\n",
       "    </tr>\n",
       "  </thead>\n",
       "  <tbody>\n",
       "    <tr>\n",
       "      <th>0</th>\n",
       "      <td>0.026703</td>\n",
       "      <td>1614</td>\n",
       "      <td>39.880415</td>\n",
       "    </tr>\n",
       "    <tr>\n",
       "      <th>1</th>\n",
       "      <td>0.026910</td>\n",
       "      <td>1604</td>\n",
       "      <td>39.792908</td>\n",
       "    </tr>\n",
       "    <tr>\n",
       "      <th>2</th>\n",
       "      <td>0.026918</td>\n",
       "      <td>1604</td>\n",
       "      <td>39.727950</td>\n",
       "    </tr>\n",
       "    <tr>\n",
       "      <th>3</th>\n",
       "      <td>0.026909</td>\n",
       "      <td>1614</td>\n",
       "      <td>39.871966</td>\n",
       "    </tr>\n",
       "    <tr>\n",
       "      <th>4</th>\n",
       "      <td>0.026921</td>\n",
       "      <td>1612</td>\n",
       "      <td>39.847845</td>\n",
       "    </tr>\n",
       "  </tbody>\n",
       "</table>\n",
       "</div>"
      ],
      "text/plain": [
       "   max_vals  num_landmarks  area_under_curve\n",
       "0  0.026703           1614         39.880415\n",
       "1  0.026910           1604         39.792908\n",
       "2  0.026918           1604         39.727950\n",
       "3  0.026909           1614         39.871966\n",
       "4  0.026921           1612         39.847845"
      ]
     },
     "execution_count": 8,
     "metadata": {},
     "output_type": "execute_result"
    }
   ],
   "source": [
    "# Handcrafted features for all data (train and test data)\n",
    "eigenvectors = np.copy(df_maxEVecs.values)\n",
    "max_vals = []\n",
    "max_vals = eigenvectors[:,0]\n",
    "num_landmarks = count_nonzero(eigenvectors,axis=1)\n",
    "area_under_curve = []\n",
    "\n",
    "for i in range(m): \n",
    "    temp_sum = 0;\n",
    "    for j in range(n):\n",
    "        temp_sum += eigenvectors[i,j]\n",
    "    area_under_curve.append(temp_sum)\n",
    "    \n",
    "temp_dict = {'max_vals':max_vals,\n",
    "             'num_landmarks':num_landmarks,\n",
    "             'area_under_curve':area_under_curve}\n",
    "\n",
    "df_features = pd.DataFrame(data = temp_dict)\n",
    "print(df_features.shape)\n",
    "df_features.head()\n",
    "    \n",
    "# minus1_max_vals = [max_vals[0]]\n",
    "# minus1_max_vals = np.append(minus1_max_vals,max_vals[0:m-1])\n",
    "# minus1_num_landmarks = [num_landmarks[0]]\n",
    "# minus1_num_landmarks = np.append(minus1_num_landmarks,num_landmarks[0:m-1])\n",
    "# minus1_area_under_curve = [area_under_curve[0]]\n",
    "# minus1_area_under_curve = np.append(minus1_area_under_curve,area_under_curve[0:m-1])"
   ]
  },
  {
   "cell_type": "code",
   "execution_count": 9,
   "metadata": {},
   "outputs": [
    {
     "name": "stdout",
     "output_type": "stream",
     "text": [
      "(5955, 3)\n",
      "(5955, 54)\n"
     ]
    },
    {
     "data": {
      "text/html": [
       "<div>\n",
       "<style scoped>\n",
       "    .dataframe tbody tr th:only-of-type {\n",
       "        vertical-align: middle;\n",
       "    }\n",
       "\n",
       "    .dataframe tbody tr th {\n",
       "        vertical-align: top;\n",
       "    }\n",
       "\n",
       "    .dataframe thead th {\n",
       "        text-align: right;\n",
       "    }\n",
       "</style>\n",
       "<table border=\"1\" class=\"dataframe\">\n",
       "  <thead>\n",
       "    <tr style=\"text-align: right;\">\n",
       "      <th></th>\n",
       "      <th>maxVals</th>\n",
       "      <th>numLandmarks</th>\n",
       "      <th>areaUnderCurve</th>\n",
       "      <th>3</th>\n",
       "      <th>4</th>\n",
       "      <th>5</th>\n",
       "      <th>6</th>\n",
       "      <th>7</th>\n",
       "      <th>8</th>\n",
       "      <th>9</th>\n",
       "      <th>...</th>\n",
       "      <th>44</th>\n",
       "      <th>45</th>\n",
       "      <th>46</th>\n",
       "      <th>47</th>\n",
       "      <th>48</th>\n",
       "      <th>49</th>\n",
       "      <th>50</th>\n",
       "      <th>51</th>\n",
       "      <th>52</th>\n",
       "      <th>53</th>\n",
       "    </tr>\n",
       "  </thead>\n",
       "  <tbody>\n",
       "    <tr>\n",
       "      <th>0</th>\n",
       "      <td>0.026703</td>\n",
       "      <td>1614</td>\n",
       "      <td>39.880415</td>\n",
       "      <td>0.026703</td>\n",
       "      <td>1614.0</td>\n",
       "      <td>39.880415</td>\n",
       "      <td>0.026703</td>\n",
       "      <td>1614.0</td>\n",
       "      <td>39.880415</td>\n",
       "      <td>0.026703</td>\n",
       "      <td>...</td>\n",
       "      <td>39.880415</td>\n",
       "      <td>0.026703</td>\n",
       "      <td>1614.0</td>\n",
       "      <td>39.880415</td>\n",
       "      <td>0.026703</td>\n",
       "      <td>1614.0</td>\n",
       "      <td>39.880415</td>\n",
       "      <td>0.026703</td>\n",
       "      <td>1614.0</td>\n",
       "      <td>39.880415</td>\n",
       "    </tr>\n",
       "    <tr>\n",
       "      <th>1</th>\n",
       "      <td>0.026910</td>\n",
       "      <td>1604</td>\n",
       "      <td>39.792908</td>\n",
       "      <td>0.026703</td>\n",
       "      <td>1614.0</td>\n",
       "      <td>39.880415</td>\n",
       "      <td>0.026703</td>\n",
       "      <td>1614.0</td>\n",
       "      <td>39.880415</td>\n",
       "      <td>0.026703</td>\n",
       "      <td>...</td>\n",
       "      <td>39.880415</td>\n",
       "      <td>0.026703</td>\n",
       "      <td>1614.0</td>\n",
       "      <td>39.880415</td>\n",
       "      <td>0.026703</td>\n",
       "      <td>1614.0</td>\n",
       "      <td>39.880415</td>\n",
       "      <td>0.026703</td>\n",
       "      <td>1614.0</td>\n",
       "      <td>39.880415</td>\n",
       "    </tr>\n",
       "    <tr>\n",
       "      <th>2</th>\n",
       "      <td>0.026918</td>\n",
       "      <td>1604</td>\n",
       "      <td>39.727950</td>\n",
       "      <td>0.026910</td>\n",
       "      <td>1604.0</td>\n",
       "      <td>39.792908</td>\n",
       "      <td>0.026703</td>\n",
       "      <td>1614.0</td>\n",
       "      <td>39.880415</td>\n",
       "      <td>0.026703</td>\n",
       "      <td>...</td>\n",
       "      <td>39.880415</td>\n",
       "      <td>0.026703</td>\n",
       "      <td>1614.0</td>\n",
       "      <td>39.880415</td>\n",
       "      <td>0.026703</td>\n",
       "      <td>1614.0</td>\n",
       "      <td>39.880415</td>\n",
       "      <td>0.026703</td>\n",
       "      <td>1614.0</td>\n",
       "      <td>39.880415</td>\n",
       "    </tr>\n",
       "    <tr>\n",
       "      <th>3</th>\n",
       "      <td>0.026909</td>\n",
       "      <td>1614</td>\n",
       "      <td>39.871966</td>\n",
       "      <td>0.026918</td>\n",
       "      <td>1604.0</td>\n",
       "      <td>39.727950</td>\n",
       "      <td>0.026910</td>\n",
       "      <td>1604.0</td>\n",
       "      <td>39.792908</td>\n",
       "      <td>0.026703</td>\n",
       "      <td>...</td>\n",
       "      <td>39.880415</td>\n",
       "      <td>0.026703</td>\n",
       "      <td>1614.0</td>\n",
       "      <td>39.880415</td>\n",
       "      <td>0.026703</td>\n",
       "      <td>1614.0</td>\n",
       "      <td>39.880415</td>\n",
       "      <td>0.026703</td>\n",
       "      <td>1614.0</td>\n",
       "      <td>39.880415</td>\n",
       "    </tr>\n",
       "    <tr>\n",
       "      <th>4</th>\n",
       "      <td>0.026921</td>\n",
       "      <td>1612</td>\n",
       "      <td>39.847845</td>\n",
       "      <td>0.026909</td>\n",
       "      <td>1614.0</td>\n",
       "      <td>39.871966</td>\n",
       "      <td>0.026918</td>\n",
       "      <td>1604.0</td>\n",
       "      <td>39.727950</td>\n",
       "      <td>0.026910</td>\n",
       "      <td>...</td>\n",
       "      <td>39.880415</td>\n",
       "      <td>0.026703</td>\n",
       "      <td>1614.0</td>\n",
       "      <td>39.880415</td>\n",
       "      <td>0.026703</td>\n",
       "      <td>1614.0</td>\n",
       "      <td>39.880415</td>\n",
       "      <td>0.026703</td>\n",
       "      <td>1614.0</td>\n",
       "      <td>39.880415</td>\n",
       "    </tr>\n",
       "  </tbody>\n",
       "</table>\n",
       "<p>5 rows × 54 columns</p>\n",
       "</div>"
      ],
      "text/plain": [
       "    maxVals  numLandmarks  areaUnderCurve         3       4          5  \\\n",
       "0  0.026703          1614       39.880415  0.026703  1614.0  39.880415   \n",
       "1  0.026910          1604       39.792908  0.026703  1614.0  39.880415   \n",
       "2  0.026918          1604       39.727950  0.026910  1604.0  39.792908   \n",
       "3  0.026909          1614       39.871966  0.026918  1604.0  39.727950   \n",
       "4  0.026921          1612       39.847845  0.026909  1614.0  39.871966   \n",
       "\n",
       "          6       7          8         9    ...             44        45  \\\n",
       "0  0.026703  1614.0  39.880415  0.026703    ...      39.880415  0.026703   \n",
       "1  0.026703  1614.0  39.880415  0.026703    ...      39.880415  0.026703   \n",
       "2  0.026703  1614.0  39.880415  0.026703    ...      39.880415  0.026703   \n",
       "3  0.026910  1604.0  39.792908  0.026703    ...      39.880415  0.026703   \n",
       "4  0.026918  1604.0  39.727950  0.026910    ...      39.880415  0.026703   \n",
       "\n",
       "       46         47        48      49         50        51      52         53  \n",
       "0  1614.0  39.880415  0.026703  1614.0  39.880415  0.026703  1614.0  39.880415  \n",
       "1  1614.0  39.880415  0.026703  1614.0  39.880415  0.026703  1614.0  39.880415  \n",
       "2  1614.0  39.880415  0.026703  1614.0  39.880415  0.026703  1614.0  39.880415  \n",
       "3  1614.0  39.880415  0.026703  1614.0  39.880415  0.026703  1614.0  39.880415  \n",
       "4  1614.0  39.880415  0.026703  1614.0  39.880415  0.026703  1614.0  39.880415  \n",
       "\n",
       "[5 rows x 54 columns]"
      ]
     },
     "execution_count": 9,
     "metadata": {},
     "output_type": "execute_result"
    }
   ],
   "source": [
    "eigenvectors = np.copy(df_maxEVecs.values)\n",
    "max_vals = []\n",
    "max_vals = eigenvectors[:,0]\n",
    "num_landmarks = count_nonzero(eigenvectors,axis=1)\n",
    "area_under_curve = []\n",
    "\n",
    "for i in range(m): \n",
    "    temp_sum = 0;\n",
    "    for j in range(n):\n",
    "        temp_sum += eigenvectors[i,j]\n",
    "    area_under_curve.append(temp_sum)\n",
    "    \n",
    "temp_dict = {'maxVals':max_vals,\n",
    "             'numLandmarks':num_landmarks,\n",
    "             'areaUnderCurve':area_under_curve}\n",
    "\n",
    "df_features = pd.DataFrame(data = temp_dict)\n",
    "print(df_features.shape)\n",
    "df_features.head()\n",
    "\n",
    "num_scans_used = 18\n",
    "for i in range(1,num_scans_used):\n",
    "#     print('i = ',i)\n",
    "    df_features[i*3] = df_features['maxVals'].iloc[:-i]\n",
    "    df_features[i*3] = df_features[i*3].shift(i)\n",
    "    df_features.loc[0:i,i*3] = df_features['maxVals'].iloc[0]\n",
    "\n",
    "    df_features[i*3+1] = df_features['numLandmarks'].iloc[:-i]\n",
    "    df_features[i*3+1] = df_features[i*3+1].shift(i)\n",
    "    df_features.loc[0:i,i*3+1] = df_features['numLandmarks'].iloc[0]\n",
    "\n",
    "    df_features[i*3+2] = df_features['areaUnderCurve'].iloc[:-i]\n",
    "    df_features[i*3+2] = df_features[i*3+2].shift(i)\n",
    "    df_features.loc[0:i,i*3+2] = df_features['areaUnderCurve'].iloc[0]\n",
    "\n",
    "print(df_features.shape)\n",
    "df_features.head()\n"
   ]
  },
  {
   "cell_type": "code",
   "execution_count": 10,
   "metadata": {},
   "outputs": [
    {
     "name": "stdout",
     "output_type": "stream",
     "text": [
      "Good RO:  4690\n",
      "Bad RO: 1265 \n",
      "\n",
      "Good vs Bad RO in training:  3752 good, 1012 bad\n",
      "Good vs Bad RO in testing: 938 good, 253 bad \n",
      "\n",
      "Good/Bad ratio in training:  3.707509881422925\n",
      "Good/Bad ratio in testing: 3.707509881422925 \n",
      "\n",
      "Bad RO % in training:  0.21242653232577666\n",
      "Bad RO % in testing: 0.21242653232577666 \n",
      "\n",
      "Size of training data is: \n",
      " (4764, 54)\n",
      "Size of test data is: \n",
      " (1191, 54)\n"
     ]
    }
   ],
   "source": [
    "from sklearn.model_selection import StratifiedShuffleSplit\n",
    "\n",
    "maxEVecs = np.array(df_maxEVecs.values)\n",
    "y_labels = ravel(labels)\n",
    "\n",
    "\n",
    "print('Good RO: ',np.count_nonzero(y_labels==-1))\n",
    "print('Bad RO:',np.count_nonzero(y_labels==1),'\\n')\n",
    "\n",
    "X_total = np.copy(df_features.values)\n",
    "y_total = np.copy(y_labels)\n",
    "\n",
    "sss = StratifiedShuffleSplit(n_splits=1, test_size = 0.2, random_state=0)\n",
    "\n",
    "for train_index, test_index in sss.split(X_total, y_total):\n",
    "    X_train, X_test = X_total[train_index], X_total[test_index]\n",
    "    y_train, y_test = y_total[train_index], y_total[test_index]\n",
    "    eig_train, eig_test = maxEVecs[train_index], maxEVecs[test_index]\n",
    "\n",
    "print('Good vs Bad RO in training: ',np.count_nonzero(y_train==-1),'good,',np.count_nonzero(y_train==1),'bad')\n",
    "print('Good vs Bad RO in testing:',np.count_nonzero(y_test==-1),'good,',np.count_nonzero(y_test==1),'bad \\n')\n",
    "\n",
    "print('Good/Bad ratio in training: ',np.count_nonzero(y_train==-1)/np.count_nonzero(y_train==1))\n",
    "print('Good/Bad ratio in testing:',np.count_nonzero(y_test==-1)/np.count_nonzero(y_test==1),'\\n')\n",
    "\n",
    "# print('Bad RO % in training: ',np.count_nonzero(y_train==1)/np.count_nonzero(labels==1))\n",
    "# print('Bad RO % in testing:',np.count_nonzero(y_test==1)/np.count_nonzero(labels==1),'\\n')\n",
    "\n",
    "print('Bad RO % in training: ',np.count_nonzero(y_train==1)/len(y_train))\n",
    "print('Bad RO % in testing:',np.count_nonzero(y_test==1)/len(y_test),'\\n')\n",
    "\n",
    "[m_train,n_train] = shape(X_train)\n",
    "[m_test,n_test] = shape(X_test)\n",
    "print(\"Size of training data is: \\n\",shape(X_train))\n",
    "print(\"Size of test data is: \\n\",shape(X_test))"
   ]
  },
  {
   "cell_type": "code",
   "execution_count": 108,
   "metadata": {},
   "outputs": [],
   "source": [
    "from sklearn import preprocessing\n",
    "\n",
    "scaler = preprocessing.StandardScaler().fit(X_train)\n",
    "# scaler = preprocessing.MaxAbsScaler().fit(X_train)\n",
    "X_scaled = preprocessing.scale(X_train)\n",
    "# print(\"Mean: \",X_scaled.mean(axis=0))\n",
    "# print(\"Variance: \",X_scaled.std(axis=0))\n",
    "X_train = scaler.transform(X_train)\n",
    "X_test = scaler.transform(X_test)"
   ]
  },
  {
   "cell_type": "code",
   "execution_count": 246,
   "metadata": {},
   "outputs": [
    {
     "name": "stdout",
     "output_type": "stream",
     "text": [
      "SVC(C=1.0, cache_size=200, class_weight='balanced', coef0=0.0,\n",
      "  decision_function_shape='ovr', degree=3, gamma=0.001, kernel='linear',\n",
      "  max_iter=-1, probability=False, random_state=0, shrinking=True,\n",
      "  tol=0.001, verbose=False)\n",
      "\n",
      "Train metrics:\n",
      "Accuracy: 0.8285054575986566\n",
      "Precision: 0.5565873476494486\n",
      "Recall: 0.9476284584980237\n",
      "F1 score: 0.7012797074954296\n",
      "Average precision: 0.6743454731271458\n",
      "\n",
      "Test metrics:\n",
      "Accuracy: 0.8085642317380353\n",
      "Precision: 0.5275938189845475\n",
      "Recall: 0.9446640316205533\n",
      "F1 score: 0.6770538243626062\n",
      "Average precision: 0.645282267306436\n",
      "\n",
      "Cross validation:\n",
      " [0.68212037 0.62120992 0.67057144 0.70326673 0.65663026]\n",
      "Mean average precision score: 0.6667597435111344\n",
      "Std dev average precision score: 0.02742491940242124\n"
     ]
    }
   ],
   "source": [
    "from sklearn.svm import SVC\n",
    "# from sklearn.ensemble import RandomForestClassifier\n",
    "from sklearn.metrics import f1_score,precision_score,recall_score\n",
    "from sklearn.metrics import average_precision_score\n",
    "\n",
    "# SVM Classifier model\n",
    "# clf = RandomForestClassifier(n_estimators=30,class_weight='balanced')\n",
    "# clf = SVC(kernel=\"rbf\",class_weight='balanced', C=float(20),gamma=0.1,random_state=0)\n",
    "clf = SVC(kernel=\"linear\",class_weight='balanced', C=float(1),gamma=0.001,random_state=0)\n",
    "print(clf.fit(X_train, y_train))\n",
    "\n",
    "y_predictions_X_train = clf.predict(X_train)\n",
    "dec_func_X_train = clf.decision_function(X_train)\n",
    "\n",
    "print('\\nTrain metrics:')\n",
    "print('Accuracy:',clf.score(X_train,y_train))\n",
    "print('Precision:',precision_score(y_train,y_predictions_X_train))\n",
    "print('Recall:',recall_score(y_train,y_predictions_X_train))\n",
    "print('F1 score:',f1_score(y_train,y_predictions_X_train))\n",
    "print('Average precision:',average_precision_score(y_train,dec_func_X_train))\n",
    "\n",
    "y_predictions_X_test = clf.predict(X_test)\n",
    "dec_func_X_test = clf.decision_function(X_test)\n",
    "\n",
    "print('\\nTest metrics:')\n",
    "print('Accuracy:',clf.score(X_test,y_test))\n",
    "print('Precision:',precision_score(y_test,y_predictions_X_test))\n",
    "print('Recall:',recall_score(y_test,y_predictions_X_test))\n",
    "print('F1 score:',f1_score(y_test,y_predictions_X_test))\n",
    "print('Average precision:',average_precision_score(y_test,dec_func_X_test))\n",
    "\n",
    "from sklearn import metrics\n",
    "from sklearn.model_selection import cross_val_score\n",
    "tmp_score = 'average_precision'\n",
    "scores = cross_val_score(\n",
    "    clf, X_train, y_train, cv=5, scoring=tmp_score)\n",
    "print('\\nCross validation:\\n',scores)\n",
    "print('Mean average precision score:',scores.mean())\n",
    "print('Std dev average precision score:',scores.std())"
   ]
  },
  {
   "cell_type": "code",
   "execution_count": 111,
   "metadata": {},
   "outputs": [],
   "source": [
    "from sklearn.model_selection import GridSearchCV\n",
    "\n",
    "doGridSearch = False\n",
    "if(doGridSearch == True):\n",
    "    # parameters = {'kernel':('linear', 'rbf'), 'C':[1, 10, 20, 40],'gamma':[0.0001,0.001,0.01,0.1]}\n",
    "    parameters = {'kernel':['linear'], 'C':[0.001,0.01,0.1,1],'gamma':[0.001,0.01,0.1]}\n",
    "\n",
    "    svc = SVC()\n",
    "    clf_GS = GridSearchCV(svc, parameters, cv=5,scoring='average_precision',n_jobs=-1,verbose=0)\n",
    "    clf_GS.fit(X_train,y_train)\n",
    "    cv_results = clf_GS.cv_results_\n",
    "    scores_df = pd.DataFrame(cv_results).sort_values(by='rank_test_score')\n",
    "    \n",
    "    # export to csv\n",
    "    scores_df.to_csv('/Users/roberto/data/gridSearch.csv')"
   ]
  },
  {
   "cell_type": "code",
   "execution_count": 112,
   "metadata": {},
   "outputs": [
    {
     "name": "stdout",
     "output_type": "stream",
     "text": [
      "Fitting estimator with 54 features.\n",
      "Fitting estimator with 53 features.\n",
      "Fitting estimator with 52 features.\n",
      "Fitting estimator with 51 features.\n",
      "Fitting estimator with 50 features.\n",
      "Fitting estimator with 49 features.\n",
      "Fitting estimator with 48 features.\n",
      "Fitting estimator with 47 features.\n",
      "Fitting estimator with 46 features.\n",
      "Fitting estimator with 45 features.\n",
      "Fitting estimator with 44 features.\n",
      "Fitting estimator with 43 features.\n",
      "Fitting estimator with 42 features.\n",
      "Fitting estimator with 41 features.\n",
      "Fitting estimator with 40 features.\n",
      "Fitting estimator with 39 features.\n",
      "Fitting estimator with 38 features.\n",
      "Fitting estimator with 37 features.\n",
      "Fitting estimator with 36 features.\n",
      "Fitting estimator with 35 features.\n",
      "Fitting estimator with 34 features.\n",
      "Fitting estimator with 33 features.\n",
      "Fitting estimator with 32 features.\n",
      "Fitting estimator with 31 features.\n",
      "Fitting estimator with 30 features.\n",
      "Fitting estimator with 29 features.\n",
      "Fitting estimator with 28 features.\n",
      "Fitting estimator with 27 features.\n",
      "Fitting estimator with 26 features.\n",
      "Fitting estimator with 25 features.\n",
      "Fitting estimator with 24 features.\n",
      "Fitting estimator with 23 features.\n",
      "Fitting estimator with 22 features.\n",
      "Fitting estimator with 21 features.\n",
      "Fitting estimator with 20 features.\n",
      "Fitting estimator with 19 features.\n",
      "Fitting estimator with 18 features.\n",
      "Fitting estimator with 17 features.\n",
      "Fitting estimator with 16 features.\n",
      "Fitting estimator with 15 features.\n",
      "Fitting estimator with 14 features.\n",
      "Fitting estimator with 13 features.\n",
      "Fitting estimator with 12 features.\n",
      "Fitting estimator with 11 features.\n",
      "Fitting estimator with 10 features.\n",
      "Fitting estimator with 9 features.\n",
      "Fitting estimator with 8 features.\n",
      "Fitting estimator with 7 features.\n",
      "Fitting estimator with 6 features.\n",
      "Fitting estimator with 5 features.\n",
      "Fitting estimator with 4 features.\n",
      "Fitting estimator with 3 features.\n",
      "Fitting estimator with 2 features.\n",
      "[44 19 46 42 40 48 45 41 38 37 47 54 23 49 20 35  7 24 26 51 25 39 31 53\n",
      " 17 36 16 43 13 22  9 15  8  3  2  1 32 18 21  6  4  5 12 14 11 34 52 33\n",
      " 50 27 29 30 10 28]\n"
     ]
    }
   ],
   "source": [
    "# The results here change depending on C value of SVM...\n",
    "from sklearn.feature_selection import RFE\n",
    "clf_tmp = clf\n",
    "selector = RFE(clf_tmp,1,step=1,verbose=1)\n",
    "selector = selector.fit(X_train,y_train)\n",
    "print(selector.ranking_)"
   ]
  },
  {
   "cell_type": "code",
   "execution_count": 113,
   "metadata": {},
   "outputs": [
    {
     "data": {
      "text/plain": [
       "<matplotlib.axes._subplots.AxesSubplot at 0x1117b8128>"
      ]
     },
     "execution_count": 113,
     "metadata": {},
     "output_type": "execute_result"
    },
    {
     "data": {
      "image/png": "[encoded data removed]",
      "text/plain": [
       "<Figure size 2160x1080 with 1 Axes>"
      ]
     },
     "metadata": {},
     "output_type": "display_data"
    }
   ],
   "source": [
    "features_names = list(df_features)#['1', '2','3','4','5','6','7','8','9']\n",
    "plt.figure(figsize=(30,15))\n",
    "clf_tmp = SVC(kernel=\"linear\",class_weight='balanced', C=float(1),random_state=0)\n",
    "clf_tmp.fit(X_train, y_train)\n",
    "pd.Series(abs(clf.coef_[0]), index=features_names).nlargest(len(features_names)).plot(kind='barh')"
   ]
  },
  {
   "cell_type": "code",
   "execution_count": null,
   "metadata": {},
   "outputs": [],
   "source": [
    "#Plot bars with colour based on their feature group (1 of the 3)?"
   ]
  },
  {
   "cell_type": "code",
   "execution_count": 245,
   "metadata": {},
   "outputs": [
    {
     "name": "stdout",
     "output_type": "stream",
     "text": [
      "[0.68212037 0.62120992 0.67057144 0.70326673 0.65663026]\n",
      "Mean average precision score: 0.6667597435111344\n",
      "Std dev average precision score: 0.02742491940242124\n"
     ]
    }
   ],
   "source": [
    "from sklearn import metrics\n",
    "from sklearn.model_selection import cross_val_score\n",
    "tmp_score = 'average_precision'\n",
    "scores = cross_val_score(\n",
    "    clf, X_train, y_train, cv=5, scoring=tmp_score)\n",
    "print(scores)\n",
    "print('Mean average precision score:',scores.mean())\n",
    "print('Std dev average precision score:',scores.std())"
   ]
  },
  {
   "cell_type": "code",
   "execution_count": 115,
   "metadata": {},
   "outputs": [
    {
     "name": "stdout",
     "output_type": "stream",
     "text": [
      "Accuracy: 0.8285054575986566\n",
      "Precision: 0.5565873476494486\n",
      "Recall: 0.9476284584980237\n",
      "F1 score: 0.7012797074954296\n"
     ]
    }
   ],
   "source": [
    "y_predictions = clf.predict(X_train)\n",
    "print('Accuracy:',clf.score(X_train,y_train))\n",
    "print('Precision:',precision_score(y_train,y_predictions))\n",
    "print('Recall:',recall_score(y_train,y_predictions))\n",
    "print('F1 score:',f1_score(y_train,y_predictions))\n",
    "# This requires a probability or decision function\n",
    "# print('Average precision:',average_precision_score(y_train,y_predictions))"
   ]
  },
  {
   "cell_type": "code",
   "execution_count": 116,
   "metadata": {},
   "outputs": [
    {
     "name": "stdout",
     "output_type": "stream",
     "text": [
      "Area under PR curve: 0.6737385073659069\n",
      "Average precision score: 0.6741146564529955\n"
     ]
    },
    {
     "data": {
      "image/png": "[encoded data removed]",
      "text/plain": [
       "<Figure size 432x288 with 1 Axes>"
      ]
     },
     "metadata": {},
     "output_type": "display_data"
    }
   ],
   "source": [
    "from sklearn.metrics import precision_recall_curve\n",
    "from sklearn.metrics import auc\n",
    "from sklearn.metrics import average_precision_score\n",
    "clf_probs = SVC(kernel=\"linear\",class_weight='balanced', C=float(0.1),gamma=0.001,random_state=0,probability=True)\n",
    "clf_probs.fit(X_train,y_train)\n",
    "probs = clf_probs.predict_proba(X_train)\n",
    "# keep probabilities for the positive outcome only\n",
    "probs = probs[:, 1]\n",
    "precision, recall, thresholds = precision_recall_curve(y_train, probs)\n",
    "print('Area under PR curve:',auc(recall,precision))\n",
    "print('Average precision score:',average_precision_score(y_train, probs))\n",
    "# plt.plot([0, 1], [0.5, 0.5], linestyle='--')\n",
    "plt.plot(recall, precision, marker='.')\n",
    "plt.xlabel('Recall')\n",
    "plt.ylabel('Precision')\n",
    "plt.show()"
   ]
  },
  {
   "cell_type": "code",
   "execution_count": 117,
   "metadata": {},
   "outputs": [],
   "source": [
    "from sklearn.model_selection import cross_val_predict\n",
    "\n",
    "y_train_pred = cross_val_predict(clf,X_train, y_train, cv=5)"
   ]
  },
  {
   "cell_type": "code",
   "execution_count": 118,
   "metadata": {},
   "outputs": [
    {
     "data": {
      "text/plain": [
       "(0, 500)"
      ]
     },
     "execution_count": 118,
     "metadata": {},
     "output_type": "execute_result"
    },
    {
     "data": {
      "image/png": "[encoded data removed]",
      "text/plain": [
       "<Figure size 2160x576 with 1 Axes>"
      ]
     },
     "metadata": {},
     "output_type": "display_data"
    }
   ],
   "source": [
    "plt.figure(figsize=(30,8))\n",
    "plt.plot(y_predictions,'r*')\n",
    "plt.plot(y_train-0.05,'b*')\n",
    "plt.plot(y_train_pred+0.05,'c*')\n",
    "\n",
    "plt.xlim(0,500)"
   ]
  },
  {
   "cell_type": "code",
   "execution_count": 31,
   "metadata": {},
   "outputs": [],
   "source": [
    "from sklearn.model_selection import cross_val_predict\n",
    "\n",
    "y_train_pred = cross_val_predict(clf,X_train, y_train, cv=5)"
   ]
  },
  {
   "cell_type": "code",
   "execution_count": 119,
   "metadata": {},
   "outputs": [
    {
     "data": {
      "text/plain": [
       "array([[2989,  763],\n",
       "       [  66,  946]])"
      ]
     },
     "execution_count": 119,
     "metadata": {},
     "output_type": "execute_result"
    }
   ],
   "source": [
    "from sklearn.metrics import confusion_matrix\n",
    "confusion_matrix(y_train,y_train_pred)"
   ]
  },
  {
   "cell_type": "code",
   "execution_count": 120,
   "metadata": {
    "scrolled": false
   },
   "outputs": [
    {
     "name": "stdout",
     "output_type": "stream",
     "text": [
      "Precision (% when positive prediction is correct):\n",
      " 0.553540081919251 \n",
      "\n",
      "Recall (% of bad RO instances detected):\n",
      " 0.9347826086956522 \n",
      "\n",
      "F1 score: \n",
      " 0.6953325983094449\n"
     ]
    }
   ],
   "source": [
    "from sklearn.metrics import precision_score, recall_score\n",
    "print('Precision (% when positive prediction is correct):\\n',precision_score(y_train,y_train_pred),'\\n')\n",
    "print('Recall (% of bad RO instances detected):\\n',recall_score(y_train, y_train_pred),'\\n')\n",
    "print('F1 score: \\n',f1_score(y_train,y_train_pred))"
   ]
  },
  {
   "cell_type": "code",
   "execution_count": 121,
   "metadata": {},
   "outputs": [],
   "source": [
    "from sklearn.model_selection import cross_val_score\n",
    "# y_scores = cross_val_predict(clf, X_train, y_train, cv=5,\n",
    "#                                  method=\"decision_function\")\n",
    "# y_scores = cross_val_predict(clf, X_train, y_train, cv=3)\n",
    "y_scores = clf_probs.predict_proba(X_train)\n",
    "y_scores = y_scores[:, 1]"
   ]
  },
  {
   "cell_type": "code",
   "execution_count": 122,
   "metadata": {},
   "outputs": [
    {
     "data": {
      "image/png": "[encoded data removed]",
      "text/plain": [
       "<Figure size 432x288 with 1 Axes>"
      ]
     },
     "metadata": {},
     "output_type": "display_data"
    },
    {
     "name": "stdout",
     "output_type": "stream",
     "text": [
      "*** If we set a threshold here: ***\n",
      "Precision (% when positive prediction is correct):\n",
      " 0.5929712460063897 \n",
      "\n",
      "Recall (% of bad RO instances detected):\n",
      " 0.9169960474308301 \n",
      "\n"
     ]
    }
   ],
   "source": [
    "from sklearn.metrics import precision_recall_curve\n",
    "precisions, recalls, thresholds = precision_recall_curve(y_train, y_scores)\n",
    "\n",
    "def plot_precision_recall_vs_threshold(precisions, recalls, thresholds):\n",
    "    plt.plot(thresholds, precisions[:-1], \"b--\", label=\"Precision\")\n",
    "    plt.plot(thresholds, recalls[:-1], \"g--\", label=\"Recall\")\n",
    "    plt.xlabel(\"Threshold\")\n",
    "    plt.legend(loc=\"upper left\")\n",
    "#     plt.ylim([0, 1])\n",
    "plot_precision_recall_vs_threshold(precisions, recalls, thresholds)\n",
    "plt.show()\n",
    "\n",
    "# Need to set all bad RO labels from -1 to 0 for this function to work\n",
    "tmp_y_train = np.array(y_train)\n",
    "indices = [i for i, x in enumerate(tmp_y_train) if x == -1]\n",
    "tmp_y_train[indices] = 0\n",
    "\n",
    "y_train_pred_thresholding = (y_scores > 0.25)\n",
    "print('*** If we set a threshold here: ***')\n",
    "print('Precision (% when positive prediction is correct):\\n',\n",
    "      precision_score(tmp_y_train,y_train_pred_thresholding),'\\n')\n",
    "print('Recall (% of bad RO instances detected):\\n',\n",
    "      recall_score(tmp_y_train, y_train_pred_thresholding),'\\n')"
   ]
  },
  {
   "cell_type": "code",
   "execution_count": 123,
   "metadata": {},
   "outputs": [
    {
     "data": {
      "image/png": "[encoded data removed]",
      "text/plain": [
       "<Figure size 432x288 with 1 Axes>"
      ]
     },
     "metadata": {},
     "output_type": "display_data"
    },
    {
     "name": "stdout",
     "output_type": "stream",
     "text": [
      "Area under ROC curve 0.9187250330785374\n"
     ]
    }
   ],
   "source": [
    "from sklearn.metrics import roc_curve\n",
    "from sklearn.metrics import roc_auc_score\n",
    "fpr, tpr, thresholds = roc_curve(y_train, y_scores)\n",
    "\n",
    "def plot_roc_curve(fpr, tpr, label=None):\n",
    "    plt.plot(fpr, tpr, linewidth=2, label=label)\n",
    "    plt.plot([0, 1], [0, 1], 'k--')\n",
    "    plt.axis([0, 1, 0, 1])\n",
    "    plt.xlabel('False Positive Rate')\n",
    "    plt.ylabel('True Positive Rate')\n",
    "plot_roc_curve(fpr, tpr)\n",
    "plt.show()\n",
    "\n",
    "print('Area under ROC curve',roc_auc_score(y_train, y_scores))"
   ]
  },
  {
   "cell_type": "code",
   "execution_count": 124,
   "metadata": {},
   "outputs": [
    {
     "name": "stdout",
     "output_type": "stream",
     "text": [
      "importing  protobuf.logging.pbMonolithicIndexArray_pb2\n",
      "importing  protobuf.classification_score.pbClassificationScore_pb2\n",
      "Finished importing ground truth labels.\n",
      "Size of imported labels is: 5955\n"
     ]
    }
   ],
   "source": [
    "import sys\n",
    "sys.path.append(\"/Users/roberto/code/robust-me-scripts/scripts\")\n",
    "sys.path.append(\"/Users/roberto/code/robust-me-scripts/scripts/config\")\n",
    "sys.path.append(\"/Users/roberto/code/corelibs/src/tools-python\")\n",
    "sys.path.append(\"/Users/roberto/code/corelibs/build/datatypes\")\n",
    "sys.path.append(\"/Users/roberto/code/corelibs/build/datatypes/datatypes_python\")\n",
    "import module\n",
    "\n",
    "from mrg.logging import IndexedMonolithic #MonolithicDecoder\n",
    "# sys.path.append(\"/Users/roberto/code/radar-utilities/build/radarutilities_datatypes_python\")\n",
    "# sys.path.append(\"/Users/roberto/code/radar-utilities/build/radarutilities_datatypes_python/protobuf/\")\n",
    "\n",
    "# for p in sys.path:\n",
    "#     print(p)\n",
    "\n",
    "from protobuf.classification_score import pbClassificationScore_pb2\n",
    "classification_file = \"/Users/roberto/data/odometry-comparisons/\"\\\n",
    "\"rugged_ro/2018-06-21-15-58-58-rural-loop-v4-radar-leopon-trial-sunny-long-range/\"\\\n",
    "\"motion_estimation/ground-truth/labels.monolithic\"\n",
    "\n",
    "mono_decoder = IndexedMonolithic(classification_file) #MonolithicDecoder(classification_file)\n",
    "classification_scores = []\n",
    "classification_timestamps = []\n",
    "\n",
    "for pb, _, _ in mono_decoder:\n",
    "    timestamp = pb.timestamp\n",
    "    classification_score = pb.score\n",
    "    classification_scores.append(classification_score)\n",
    "    classification_timestamps.append(timestamp)\n",
    "print(\"Finished importing ground truth labels.\")\n",
    "print(\"Size of imported labels is:\",len(classification_scores))\n",
    "\n",
    "# classification_scores, timestamps  = map(list, zip(*[pb.score, pb.timestamp for pb, _, _ in mono_decoder]))\n",
    "# classification_timestamps = [pb.timestamp for pb, _, _ in mono_decoder]"
   ]
  },
  {
   "cell_type": "code",
   "execution_count": 125,
   "metadata": {},
   "outputs": [
    {
     "data": {
      "image/png": "[encoded data removed]",
      "text/plain": [
       "<Figure size 432x288 with 1 Axes>"
      ]
     },
     "metadata": {},
     "output_type": "display_data"
    }
   ],
   "source": [
    "import matplotlib.pyplot as plt\n",
    "plt.plot(classification_scores)\n",
    "plt.show()"
   ]
  },
  {
   "cell_type": "code",
   "execution_count": 126,
   "metadata": {},
   "outputs": [],
   "source": [
    "X_experiment = np.copy(df_features.values)\n",
    "X_experiment = preprocessing.scale(X_experiment)\n",
    "predictions = clf.predict(X_experiment)\n",
    "for i in range(len(predictions)):\n",
    "    if predictions[i] == -1:\n",
    "        predictions[i] = 0"
   ]
  },
  {
   "cell_type": "code",
   "execution_count": 127,
   "metadata": {},
   "outputs": [
    {
     "name": "stdout",
     "output_type": "stream",
     "text": [
      "Ground truth failures:  1265\n",
      "Predicted failures:  2167\n",
      "True positives:  1197\n",
      "False positives:  970\n",
      "True negatives:  3720\n",
      "False negatives:  68\n",
      "True positives:  1197\n",
      "Confusion matrix:\n",
      " 3720   970 \n",
      " 68   3720\n",
      "Precision: 0.5523765574526995\n",
      "Recall: 0.9462450592885375\n",
      "F1 score: 0.6975524475524475\n"
     ]
    },
    {
     "data": {
      "image/png": "[encoded data removed]",
      "text/plain": [
       "<Figure size 2160x576 with 1 Axes>"
      ]
     },
     "metadata": {},
     "output_type": "display_data"
    }
   ],
   "source": [
    "plt.figure(figsize=(30,8))\n",
    "plt.plot(classification_scores,'g.',markersize=5)\n",
    "plt.plot([x+0.05 for x in predictions],'r.',markersize=5)\n",
    "plt.xlim(3000,3500)\n",
    "plt.title(\"SVM vs INS Baseline Predictions\",fontsize=32,y=1.03)\n",
    "\n",
    "\n",
    "TP = 0\n",
    "FP = 0\n",
    "TN = 0\n",
    "FN = 0\n",
    "for i in range(len(classification_scores)):\n",
    "    if(classification_scores[i] == 1 and predictions[i] == 1):\n",
    "        TP += 1\n",
    "    elif(classification_scores[i] == 0 and predictions[i] == 1):\n",
    "        FP += 1\n",
    "    elif(classification_scores[i] == 0 and predictions[i] == 0):\n",
    "        TN += 1\n",
    "    else:\n",
    "        FN += 1\n",
    "print(\"Ground truth failures: \", count_nonzero(classification_scores))\n",
    "print(\"Predicted failures: \", count_nonzero(predictions))\n",
    "print(\"True positives: \", TP)\n",
    "print(\"False positives: \", FP)\n",
    "print(\"True negatives: \", TN)\n",
    "print(\"False negatives: \", FN)\n",
    "print(\"True positives: \", TP)\n",
    "print(\"Confusion matrix:\\n\", TN,\" \",FP,\"\\n\",FN,\" \",TN)\n",
    "precision = TP/(TP+FP)\n",
    "recall = TP/(TP+FN)\n",
    "print(\"Precision:\",precision)\n",
    "print(\"Recall:\",recall)\n",
    "print(\"F1 score:\",2*(precision*recall)/(precision+recall))"
   ]
  },
  {
   "cell_type": "code",
   "execution_count": 128,
   "metadata": {
    "scrolled": true
   },
   "outputs": [],
   "source": [
    "# from matplotlib import pyplot as plt\n",
    "# from sklearn import svm\n",
    "# def f_importances(coef, names):\n",
    "#     imp = coef\n",
    "#     imp,names = zip(*sorted(zip(imp,names)))\n",
    "#     plt.barh(range(len(names)), imp, align='center')\n",
    "#     plt.yticks(range(len(names)), names)\n",
    "#     plt.show()\n",
    "\n",
    "# features_names = ['input1', 'input2']\n",
    "# svm = svm.SVC(kernel='linear')\n",
    "# svm.fit(X_train, y_train)\n",
    "# plt.plot(abs(svm.coef_).T,'*--')\n",
    "# f_importances(svm.coef_, features_names)"
   ]
  },
  {
   "cell_type": "code",
   "execution_count": 242,
   "metadata": {},
   "outputs": [
    {
     "name": "stdout",
     "output_type": "stream",
     "text": [
      "Ground truth failures:  1378\n",
      "Predicted failures:  2167\n",
      "True positives:  1318\n",
      "False positives:  849\n",
      "True negatives:  3728\n",
      "False negatives:  60\n",
      "True positives:  1318\n",
      "Confusion matrix:\n",
      " 3728   849 \n",
      " 60   3728\n",
      "Precision: 0.6082141209044762\n",
      "Recall: 0.9564586357039188\n",
      "F1 score: 0.7435825105782794\n"
     ]
    },
    {
     "data": {
      "image/png": "[encoded data removed]",
      "text/plain": [
       "<Figure size 2160x576 with 1 Axes>"
      ]
     },
     "metadata": {},
     "output_type": "display_data"
    }
   ],
   "source": [
    "import scipy.signal\n",
    "tmp_gt = np.array(classification_scores)\n",
    "tmp_gt = scipy.signal.medfilt(tmp_gt,3)\n",
    "\n",
    "plt.figure(figsize=(30,8))\n",
    "plt.plot(classification_scores,'g.',markersize=5)\n",
    "plt.plot([x-0.05 for x in tmp_gt],'b.',markersize=5)\n",
    "plt.plot([x+0.05 for x in predictions],'r.',markersize=5)\n",
    "# plt.xlim(1000,4500)\n",
    "plt.title(\"SVM vs INS Baseline Predictions\",fontsize=32,y=1.03)\n",
    "line1, = plt.plot([],[],color='green',label='INS')\n",
    "line2, = plt.plot([],[],color='blue',label='Filtered INS')\n",
    "line3, = plt.plot([],[],color='red',label='SVM')\n",
    "plt.legend(handles=[line1,line2,line3],fontsize=24,loc='right')\n",
    "TP = 0\n",
    "FP = 0\n",
    "TN = 0\n",
    "FN = 0\n",
    "for i in range(len(classification_scores)):\n",
    "    if(tmp_gt[i] == 1 and predictions[i] == 1):\n",
    "        TP += 1\n",
    "    elif(tmp_gt[i] == 0 and predictions[i] == 1):\n",
    "        FP += 1\n",
    "    elif(tmp_gt[i] == 0 and predictions[i] == 0):\n",
    "        TN += 1\n",
    "    else:\n",
    "        FN += 1\n",
    "print(\"Ground truth failures: \", count_nonzero(tmp_gt))\n",
    "print(\"Predicted failures: \", count_nonzero(predictions))\n",
    "print(\"True positives: \", TP)\n",
    "print(\"False positives: \", FP)\n",
    "print(\"True negatives: \", TN)\n",
    "print(\"False negatives: \", FN)\n",
    "print(\"True positives: \", TP)\n",
    "print(\"Confusion matrix:\\n\", TN,\" \",FP,\"\\n\",FN,\" \",TN)\n",
    "precision = TP/(TP+FP)\n",
    "recall = TP/(TP+FN)\n",
    "print(\"Precision:\",precision)\n",
    "print(\"Recall:\",recall)\n",
    "print(\"F1 score:\",2*(precision*recall)/(precision+recall))"
   ]
  },
  {
   "cell_type": "code",
   "execution_count": 243,
   "metadata": {},
   "outputs": [],
   "source": [
    "X_experiment = np.copy(df_features.values)\n",
    "X_experiment = preprocessing.scale(X_experiment)\n",
    "predictions = clf.predict(X_experiment)\n",
    "for i in range(len(predictions)):\n",
    "    if predictions[i] == -1:\n",
    "        predictions[i] = 0\n",
    "y_train_pred_thresholding = (predictions > -0.5)"
   ]
  },
  {
   "cell_type": "code",
   "execution_count": 244,
   "metadata": {},
   "outputs": [
    {
     "name": "stdout",
     "output_type": "stream",
     "text": [
      "Area under PR curve: 0.7339610806965948\n",
      "Average precision score: 0.7342407876134396\n"
     ]
    },
    {
     "data": {
      "image/png": "[encoded data removed]",
      "text/plain": [
       "<Figure size 432x288 with 1 Axes>"
      ]
     },
     "metadata": {},
     "output_type": "display_data"
    }
   ],
   "source": [
    "from sklearn.metrics import precision_recall_curve\n",
    "from sklearn.metrics import auc\n",
    "clf_probs = SVC(kernel=\"linear\",class_weight='balanced', C=float(1),gamma=0.001,random_state=0,probability=True)\n",
    "clf_probs.fit(X_experiment,tmp_gt)\n",
    "probs = clf_probs.predict_proba(X_experiment)\n",
    "# keep probabilities for the positive outcome only\n",
    "probs = probs[:, 1]\n",
    "precision, recall, thresholds = precision_recall_curve(tmp_gt, probs)\n",
    "print('Area under PR curve:',auc(recall,precision))\n",
    "print('Average precision score:',average_precision_score(tmp_gt, probs))\n",
    "# plt.plot([0, 1], [0.5, 0.5], linestyle='--')\n",
    "plt.plot(recall, precision, marker='.')\n",
    "plt.xlabel('Recall')\n",
    "plt.ylabel('Precision')\n",
    "plt.show()"
   ]
  },
  {
   "cell_type": "code",
   "execution_count": 31,
   "metadata": {},
   "outputs": [
    {
     "data": {
      "image/png": "[encoded data removed]",
      "text/plain": [
       "<Figure size 1080x504 with 1 Axes>"
      ]
     },
     "metadata": {},
     "output_type": "display_data"
    }
   ],
   "source": [
    "# Plot for N vs AP\n",
    "N = [1,5,10,11,12,13,14,15,16,17,18,19,20,22,25,30,35,50,75]\n",
    "AP = [0.5852394772,\n",
    "0.6061773841,\n",
    "0.6270936816,\n",
    "0.6463153575,\n",
    "0.6540687677,\n",
    "0.6563589973,\n",
    "0.6570551895,\n",
    "0.6630090508,\n",
    "0.6643194471,\n",
    "0.6660077183,\n",
    "0.6667597435,\n",
    "0.6646211187,\n",
    "0.6668325254,\n",
    "0.6640034193,\n",
    "0.6634010597,\n",
    "0.6630819639,\n",
    "0.6652076361,\n",
    "0.6555497494,\n",
    "0.6421637476]\n",
    "from matplotlib.ticker import FormatStrFormatter\n",
    "\n",
    "fig = plt.figure(figsize=(15,7))  # create a figure object\n",
    "ax = fig.add_subplot(1, 1, 1)  # create an axes object in the figure\n",
    "# ax.plot([1, 2, 3, 4])\n",
    "# ax.set_ylabel('Average Precision)\n",
    "# ax.set_\n",
    "ax.yaxis.set_major_formatter(FormatStrFormatter('%.2f'))\n",
    "\n",
    "# ax.size=8,4\n",
    "ax.set_title('Number of eigenvectors $N$ vs Average Precision')\n",
    "ax.set_xlabel('$N$')\n",
    "ax.set_ylabel('Average Precision')\n",
    "ax.set_yticks(np.arange(min(AP), max(AP), 0.02))\n",
    "ax.set_xticks([1,10,20,30,40,50,60,70])\n",
    "ax.plot(N,AP,'.--',markersize=15)\n",
    "\n",
    "fig_path = \"/Users/roberto/data/odometry-comparisons/rugged_ro/\"\\\n",
    "\"2018-06-21-15-58-58-rural-loop-v4-radar-leopon-trial-sunny-long-range/figs/\"\n",
    "plt.savefig(fig_path+\"filename_varyingN.pdf\",bbox_inches='tight',pad_inches = 0)"
   ]
  },
  {
   "cell_type": "code",
   "execution_count": null,
   "metadata": {},
   "outputs": [],
   "source": []
  }
 ],
 "metadata": {
  "kernelspec": {
   "display_name": "Python 3",
   "language": "python",
   "name": "python3"
  },
  "language_info": {
   "codemirror_mode": {
    "name": "ipython",
    "version": 3
   },
   "file_extension": ".py",
   "mimetype": "text/x-python",
   "name": "python",
   "nbconvert_exporter": "python",
   "pygments_lexer": "ipython3",
   "version": "3.6.6"
  }
 },
 "nbformat": 4,
 "nbformat_minor": 2
}
